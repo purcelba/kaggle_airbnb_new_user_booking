{
 "cells": [
  {
   "cell_type": "markdown",
   "metadata": {
    "deletable": true,
    "editable": true
   },
   "source": [
    "# Execute first"
   ]
  },
  {
   "cell_type": "code",
   "execution_count": 16,
   "metadata": {
    "collapsed": false,
    "deletable": true,
    "editable": true
   },
   "outputs": [],
   "source": [
    "#add the main directory to the path for access to feateng.py modules\n",
    "import os\n",
    "import sys\n",
    "module_path = os.path.abspath(os.path.join('..'))\n",
    "if module_path not in sys.path:\n",
    "    sys.path.append(module_path)\n",
    "\n",
    "#import the other necessary modules\n",
    "import numpy as np\n",
    "import pandas as pd\n",
    "import matplotlib.pyplot as plt\n",
    "from airbnb import feateng\n",
    "from sklearn.preprocessing import LabelEncoder, label_binarize, MinMaxScaler\n",
    "from sklearn.linear_model import LogisticRegressionCV\n",
    "from sklearn.metrics import confusion_matrix, roc_auc_score\n",
    "from sklearn import tree\n",
    "from sklearn.ensemble import RandomForestClassifier, GradientBoostingClassifier\n",
    "from xgboost.sklearn import XGBClassifier\n",
    "import seaborn as sns\n",
    "%matplotlib inline\n",
    "\n",
    "#initialize dict for saving roc_micro over models\n",
    "roc_macro_all = {}\n",
    "\n",
    "#modeling functions\n",
    "def ndcg_score(Y_true, pred_prob, k):\n",
    "    \"\"\"\n",
    "    Compute the normalized discounted cumulative gain.\n",
    "    \n",
    "    Params\n",
    "        Y_true:    Correct class number.  Numbers must correspond to columns of pred_prob (e.g., transform function of sklearn labelEncoder).\n",
    "        pred_prob: predicted probability for each class.\n",
    "        k:         k parameter determines the number of ranks to evaluate.\n",
    "    Returns\n",
    "        ndcg: average normalized discounted cumulative gain over observations\n",
    "    \"\"\"                        \n",
    "    #get number of classes and observations from dimensions of pred_prob\n",
    "    num_classes = np.shape(pred_prob)[1]\n",
    "    num_obs = np.shape(pred_prob)[0]\n",
    "    #error checking, number of classes must be >= k\n",
    "    if num_classes<k:\n",
    "        print('Error: number of classes must be >= k. Returning NaN')\n",
    "        ndcg = np.nan\n",
    "        return ndcg\n",
    "    #get the sorted columns of pred_prob (increasing), grab last k, flip order for best to worst\n",
    "    top_k = np.argsort(pred_prob,axis=1)[:,-k:][:,::-1]\n",
    "    #compute the relevance: tile Y_true, transpose Y_true to\n",
    "    #match the rows of top_k, do elementwise comparison to top_k,\n",
    "    #convert boolean to int.\n",
    "    rel = np.equal(top_k,np.tile(Y_true,(k,1)).T).astype(int)\n",
    "    #loop over columns and compute ndcg for all observations in parallel\n",
    "    ndcg = np.zeros([num_obs,])\n",
    "    for i in np.arange(k)+1:\n",
    "        ndcg=ndcg+((2**rel[:,i-1])-1)/np.log2(i+1)\n",
    "    #average over obsrvations\n",
    "    ndcg = np.mean(ndcg)\n",
    "    return ndcg\n",
    "\n",
    "def modelResults(result,X,Y,le):\n",
    "    \"\"\"\n",
    "    Compute model predictions on the training and holdout data and some summary statistics.\n",
    "    \"\"\"\n",
    "    pred_prob = {}; pred = {}; roc_macro = {}; roc_micro = {}; conf_mat = {}; ndcg = {};acc = {}\n",
    "    for k in X.keys():\n",
    "        pred_prob[k] = result.predict_proba(X[k])\n",
    "        pred[k] = result.predict(X[k])\n",
    "        acc[k] = np.mean(pred[k] == Y[k])\n",
    "        labels_bin = label_binarize(Y[k],np.arange(len(le.classes_)))\n",
    "        if np.sum( np.sum(labels_bin,0) == 0) == 0:\n",
    "            if np.shape(pred_prob[k])[1] == 2:\n",
    "                roc_macro[k] = roc_auc_score(labels_bin, pred_prob[k][:,1], average = 'macro')\n",
    "            else:\n",
    "                roc_macro[k] = roc_auc_score(labels_bin, pred_prob[k], average = 'macro')\n",
    "        else:\n",
    "            roc_macro[k] = np.nan\n",
    "            print \"Too few category members for roc_macro for data set %s, setting as NaN.\" % (k)\n",
    "        if np.shape(pred_prob[k])[1] == 2:\n",
    "            roc_micro[k] = roc_auc_score(labels_bin, pred_prob[k][:,1], average = 'micro')\n",
    "        else:\n",
    "            roc_micro[k] = roc_auc_score(labels_bin, pred_prob[k], average = 'micro')\n",
    "        ndcg[k] = ndcg_score(Y[k], pred_prob[k], 5)\n",
    "        conf_mat[k] = confusion_matrix(Y[k], pred[k])\n",
    "        #print summary statistics\n",
    "        print (\"%s: Accuracy: %2.4f \") % (k, acc[k])\n",
    "        print (\"%s: AUROC micro: %2.4f \") % (k, roc_micro[k])\n",
    "        print (\"%s: AUROC macro: %2.4f \") % (k, roc_macro[k])\n",
    "        print (\"%s: NDCG: %2.2f \") % (k, ndcg[k])\n",
    "    return pred_prob, pred, roc_macro, roc_micro, conf_mat, acc\n",
    "\n",
    "def plotConfMat(conf_mat, bin_labels,vmax=None):\n",
    "    \"\"\"\n",
    "     Plot the confusion matrix for holdout data\n",
    "    \"\"\"\n",
    "    fig = plt.figure()\n",
    "    if not vmax:\n",
    "        ax = sns.heatmap(conf_mat,vmin=0)\n",
    "    else:\n",
    "        ax = sns.heatmap(conf_mat,vmax=vmax,vmin=0,cmap=\"Greys\")    \n",
    "    ax.set_xticklabels(bin_labels)\n",
    "    ax.set_yticklabels(revList(bin_labels),rotation=0)\n",
    "    ax.set_xlabel('Predicted')\n",
    "    ax.set_ylabel('Observed')\n",
    "    \n",
    "    return ax\n",
    "\n",
    "def confMatProb(pred_prob,y):\n",
    "    \"\"\"\n",
    "    Generate confusion matrix with probability entries.\n",
    "\n",
    "    Params:\n",
    "    - pred_prob, 2D array, predicted probabilities observations x classes\n",
    "    - y, array, correct class (category)\n",
    "    Returns:\n",
    "    - conf_mat_prob, 2D array (classes x classes), predicted probability for each class (rows = observed, cols = predicted)\n",
    "    \"\"\"\n",
    "    num_obs = pred_prob.shape[0]\n",
    "    num_classes = pred_prob.shape[1]\n",
    "    conf_mat_prob = np.ones([num_classes,num_classes])*np.nan\n",
    "    for o in np.arange(num_classes):\n",
    "        for p in np.arange(num_classes):\n",
    "            conf_mat_prob[o,p] = np.mean(pred_prob[y==o,p])\n",
    "    return conf_mat_prob\n",
    "\n",
    "def revList(list):\n",
    "    \"Reverse the order of a list.\"\n",
    "    rev_list = list[np.arange(len(list),0,-1)-1]\n",
    "    return rev_list\n",
    "\n",
    "def plotObsPred(pred,obs,bins_,bin_labels):\n",
    "    \"\"\"\n",
    "    Plot the frequency distribution of observed and predicted classes.\n",
    "    \"\"\"\n",
    "    fig = plt.figure()\n",
    "    ax = fig.add_axes([.2,.2,.6,.6])\n",
    "    ax.hist(pred, bins=bins_-0.5, color='b', alpha=0.5)\n",
    "    ax.hist(obs, bins=bins_-0.5, color='g', alpha=0.5)\n",
    "    ax.set_xticks(bins_)\n",
    "    ax.set_xticklabels(bin_labels,rotation=45)\n",
    "    ax.set_ylabel('Frequency')\n",
    "    ax.set_xlabel('Country Destionation')\n",
    "    ax.legend(['Pred','Obs'],loc = (1,1))\n",
    "\n",
    "def split_train_test(df_train,labels):\n",
    "    \"\"\"\n",
    "    Split training data into train and holdout sets (last 10% of data).\n",
    "    \"\"\"\n",
    "    n_train = np.shape(df_train)[0]\n",
    "    X = {'train': [],'holdout': []} #features\n",
    "    Y = {'train':[],'holdout': []} #labels\n",
    "    p10 = int(0.1*n_train)\n",
    "    X['holdout'] = df_train.iloc[-p10:]\n",
    "    Y['holdout'] = labels[-p10:]\n",
    "    X['train'] = df_train.iloc[:(n_train-p10)]\n",
    "    Y['train'] = labels[:(n_train-p10)]\n",
    "    return X,Y\n",
    "\n",
    "def get_sub(pred,id_test,file_name,le):\n",
    "    \"\"\"\n",
    "    Given matrix of predicted probabilities, print a .csv submission file.\n",
    "\n",
    "    Params:\n",
    "    - pred, array, observations x classes matrix of prediction probabilities\n",
    "    - file_name, str, name of .csv file to save for submission\n",
    "    \"\"\"\n",
    "    #Taking the 5 classes with highest probabilities\n",
    "    ids = []  #list of ids\n",
    "    cts = []  #list of countries\n",
    "    for i in range(len(id_test)):\n",
    "        idx = id_test[i]\n",
    "        ids += [idx] * 5\n",
    "        cts += le.inverse_transform(np.argsort(pred[i])[::-1])[:5].tolist()\n",
    "    #Generate submission\n",
    "    sub = pd.DataFrame(np.column_stack((ids, cts)), columns=['id', 'country'])\n",
    "    sub.to_csv(file_name,index=False)"
   ]
  },
  {
   "cell_type": "markdown",
   "metadata": {
    "deletable": true,
    "editable": true
   },
   "source": [
    "# Binary classification: NDF vs any booking. \n",
    "## L1-regularized logistic regression"
   ]
  },
  {
   "cell_type": "code",
   "execution_count": 18,
   "metadata": {
    "collapsed": false,
    "deletable": true,
    "editable": true
   },
   "outputs": [
    {
     "name": "stdout",
     "output_type": "stream",
     "text": [
      "Loading data...\n",
      "\n",
      "Done\n",
      "Feature engineering...\n",
      "    formatting date_account_created...\n",
      "    formatting timestamp_first_active\n",
      "    formatting age\n",
      "    one-hot-feature encoding\n",
      "213451 training observations\n",
      "62096 test observations\n",
      "346 features\n",
      "213451 labels\n"
     ]
    }
   ],
   "source": [
    "#Load the data and generate features\n",
    "debug = False\n",
    "merge_classes = ['other','US','FR','CA','GB','ES','IT','PT','NL','DE','AU']\n",
    "rm_classes = []\n",
    "rescale_predictors = True\n",
    "add_sessions = 'bin'\n",
    "training_data = '../data/train_users_2.csv'\n",
    "test_data = '../data/test_users.csv'\n",
    "add_logreg_filename = []\n",
    "df_train, df_test, labels, id_train, id_test = feateng.feateng1(training_data,test_data,add_sessions,rm_classes,merge_classes,add_logreg_filename,rescale_predictors,debug)\n",
    "\n",
    "#print some information about the data\n",
    "n_train, n_feats = np.shape(df_train)\n",
    "n_test = np.shape(df_test)[0]\n",
    "n_labels = np.shape(labels)[0]\n",
    "print \"%d training observations\" % (n_train)\n",
    "print \"%d test observations\" % (n_test)\n",
    "print \"%d features\" % (n_feats)\n",
    "print \"%d labels\" % (n_labels)\n",
    "\n",
    "# encode labels as integers\n",
    "le = LabelEncoder()\n",
    "le.fit(labels)\n",
    "labels = le.transform(labels).ravel()\n",
    "bins_ = np.arange(len(le.classes_))\n",
    "bin_labels = le.inverse_transform(bins_)\n",
    "\n",
    "#split training data into train and holdout sets (last 10% of data)\n",
    "X,Y = split_train_test(df_train,labels)"
   ]
  },
  {
   "cell_type": "code",
   "execution_count": 19,
   "metadata": {
    "collapsed": false,
    "deletable": true,
    "editable": true
   },
   "outputs": [
    {
     "name": "stdout",
     "output_type": "stream",
     "text": [
      "Error: number of classes must be >= k. Returning NaN\n",
      "holdout: Accuracy: 0.7136 \n",
      "holdout: AUROC micro: 0.7516 \n",
      "holdout: AUROC macro: 0.7516 \n",
      "holdout: NDCG: nan \n",
      "Error: number of classes must be >= k. Returning NaN\n",
      "train: Accuracy: 0.6872 \n",
      "train: AUROC micro: 0.7223 \n",
      "train: AUROC macro: 0.7223 \n",
      "train: NDCG: nan \n"
     ]
    }
   ],
   "source": [
    "import pickle\n",
    "from sklearn.externals import joblib\n",
    "# load the model from disk\n",
    "filename = '../output/logregModel_binsesh_merged.sav'\n",
    "loaded_model = joblib.load(filename)\n",
    "result = loaded_model\n",
    "pred_prob, pred, roc_macro, roc_micro, conf_mat, acc = modelResults(result,X,Y,le)"
   ]
  },
  {
   "cell_type": "code",
   "execution_count": 20,
   "metadata": {
    "collapsed": false,
    "deletable": true,
    "editable": true
   },
   "outputs": [
    {
     "name": "stderr",
     "output_type": "stream",
     "text": [
      "/Users/purcelba/anaconda/envs/Python2.7/lib/python2.7/site-packages/ipykernel/__main__.py:23: SettingWithCopyWarning: \n",
      "A value is trying to be set on a copy of a slice from a DataFrame.\n",
      "Try using .loc[row_indexer,col_indexer] = value instead\n",
      "\n",
      "See the caveats in the documentation: http://pandas.pydata.org/pandas-docs/stable/indexing.html#indexing-view-versus-copy\n"
     ]
    },
    {
     "data": {
      "text/html": [
       "<div>\n",
       "<style>\n",
       "    .dataframe thead tr:only-child th {\n",
       "        text-align: right;\n",
       "    }\n",
       "\n",
       "    .dataframe thead th {\n",
       "        text-align: left;\n",
       "    }\n",
       "\n",
       "    .dataframe tbody tr th {\n",
       "        vertical-align: top;\n",
       "    }\n",
       "</style>\n",
       "<table border=\"1\" class=\"dataframe\">\n",
       "  <thead>\n",
       "    <tr style=\"text-align: right;\">\n",
       "      <th></th>\n",
       "      <th>coefs</th>\n",
       "      <th>feats</th>\n",
       "      <th>clean_labels</th>\n",
       "    </tr>\n",
       "  </thead>\n",
       "  <tbody>\n",
       "    <tr>\n",
       "      <th>345</th>\n",
       "      <td>-1.537173</td>\n",
       "      <td>age_-1</td>\n",
       "      <td>Age: missing</td>\n",
       "    </tr>\n",
       "    <tr>\n",
       "      <th>196</th>\n",
       "      <td>-0.435260</td>\n",
       "      <td>signup_method_facebook</td>\n",
       "      <td>Signup method: Facebook</td>\n",
       "    </tr>\n",
       "    <tr>\n",
       "      <th>290</th>\n",
       "      <td>-0.132291</td>\n",
       "      <td>first_browser_-1</td>\n",
       "      <td>First browser: missing</td>\n",
       "    </tr>\n",
       "    <tr>\n",
       "      <th>1</th>\n",
       "      <td>-0.129342</td>\n",
       "      <td>dac_year</td>\n",
       "      <td>Date account created: year</td>\n",
       "    </tr>\n",
       "    <tr>\n",
       "      <th>273</th>\n",
       "      <td>-0.049447</td>\n",
       "      <td>first_affiliate_tracked_omg</td>\n",
       "      <td>First affiliate tracked: OMG</td>\n",
       "    </tr>\n",
       "    <tr>\n",
       "      <th>191</th>\n",
       "      <td>-0.007021</td>\n",
       "      <td>gender_-1</td>\n",
       "      <td>Gender: missing</td>\n",
       "    </tr>\n",
       "    <tr>\n",
       "      <th>245</th>\n",
       "      <td>0.011278</td>\n",
       "      <td>affiliate_channel_direct</td>\n",
       "      <td>Affiliate channel: Direct</td>\n",
       "    </tr>\n",
       "    <tr>\n",
       "      <th>307</th>\n",
       "      <td>0.011922</td>\n",
       "      <td>first_browser_Firefox</td>\n",
       "      <td>First browser: Firefox</td>\n",
       "    </tr>\n",
       "    <tr>\n",
       "      <th>298</th>\n",
       "      <td>0.084976</td>\n",
       "      <td>first_browser_Chrome</td>\n",
       "      <td>Signup app: Web</td>\n",
       "    </tr>\n",
       "    <tr>\n",
       "      <th>279</th>\n",
       "      <td>0.086269</td>\n",
       "      <td>signup_app_Web</td>\n",
       "      <td>First browser: Chrome</td>\n",
       "    </tr>\n",
       "    <tr>\n",
       "      <th>276</th>\n",
       "      <td>0.114553</td>\n",
       "      <td>first_affiliate_tracked_untracked</td>\n",
       "      <td>First affiliate tracked: Untracked</td>\n",
       "    </tr>\n",
       "    <tr>\n",
       "      <th>284</th>\n",
       "      <td>0.149207</td>\n",
       "      <td>first_device_type_Mac Desktop</td>\n",
       "      <td>First device: Mac Desktop</td>\n",
       "    </tr>\n",
       "    <tr>\n",
       "      <th>202</th>\n",
       "      <td>0.392391</td>\n",
       "      <td>signup_flow_3</td>\n",
       "      <td>Previous web page #3</td>\n",
       "    </tr>\n",
       "    <tr>\n",
       "      <th>195</th>\n",
       "      <td>0.406649</td>\n",
       "      <td>signup_method_basic</td>\n",
       "      <td>Signup method: Basic</td>\n",
       "    </tr>\n",
       "  </tbody>\n",
       "</table>\n",
       "</div>"
      ],
      "text/plain": [
       "        coefs                              feats  \\\n",
       "345 -1.537173                             age_-1   \n",
       "196 -0.435260             signup_method_facebook   \n",
       "290 -0.132291                   first_browser_-1   \n",
       "1   -0.129342                           dac_year   \n",
       "273 -0.049447        first_affiliate_tracked_omg   \n",
       "191 -0.007021                          gender_-1   \n",
       "245  0.011278           affiliate_channel_direct   \n",
       "307  0.011922              first_browser_Firefox   \n",
       "298  0.084976               first_browser_Chrome   \n",
       "279  0.086269                     signup_app_Web   \n",
       "276  0.114553  first_affiliate_tracked_untracked   \n",
       "284  0.149207      first_device_type_Mac Desktop   \n",
       "202  0.392391                      signup_flow_3   \n",
       "195  0.406649                signup_method_basic   \n",
       "\n",
       "                           clean_labels  \n",
       "345                        Age: missing  \n",
       "196             Signup method: Facebook  \n",
       "290              First browser: missing  \n",
       "1            Date account created: year  \n",
       "273        First affiliate tracked: OMG  \n",
       "191                     Gender: missing  \n",
       "245           Affiliate channel: Direct  \n",
       "307              First browser: Firefox  \n",
       "298                     Signup app: Web  \n",
       "279               First browser: Chrome  \n",
       "276  First affiliate tracked: Untracked  \n",
       "284           First device: Mac Desktop  \n",
       "202                Previous web page #3  \n",
       "195                Signup method: Basic  "
      ]
     },
     "execution_count": 20,
     "metadata": {},
     "output_type": "execute_result"
    }
   ],
   "source": [
    "#get a table of all non-zero coefficients\n",
    "coef_list = result.coef_[0]\n",
    "d = {'coefs': coef_list,'feats': X['train'].columns}\n",
    "coef_df = pd.DataFrame(d)\n",
    "coef_df = coef_df[coef_df['coefs'] != 0]\n",
    "I = np.argsort(coef_df['coefs'])\n",
    "coef_df_sorted = coef_df.iloc[I]\n",
    "#add some tidy labels\n",
    "clean_labels = ['Age: missing',\n",
    "                'Signup method: Facebook',\n",
    "                'First browser: missing',\n",
    "                'Date account created: year',\n",
    "                'First affiliate tracked: OMG',\n",
    "                'Gender: missing',\n",
    "                'Affiliate channel: Direct',\n",
    "                'First browser: Firefox',\n",
    "                'Signup app: Web',\n",
    "                'First browser: Chrome',\n",
    "                'First affiliate tracked: Untracked',\n",
    "                'First device: Mac Desktop',\n",
    "                'Previous web page #3',\n",
    "                'Signup method: Basic']\n",
    "coef_df_sorted['clean_labels'] = clean_labels\n",
    "coef_df_sorted"
   ]
  },
  {
   "cell_type": "code",
   "execution_count": 22,
   "metadata": {
    "collapsed": false,
    "deletable": true,
    "editable": true
   },
   "outputs": [
    {
     "data": {
      "image/png": "[encoded data removed]",
      "text/plain": [
       "<matplotlib.figure.Figure at 0x11aa206d0>"
      ]
     },
     "metadata": {},
     "output_type": "display_data"
    }
   ],
   "source": [
    "#plot it\n",
    "save_on = True\n",
    "sns.set_style(\"ticks\")\n",
    "sns.set_context(\"notebook\", font_scale=1.0)\n",
    "fig = plt.figure(figsize=(5,5))\n",
    "    #generate the histogram\n",
    "ax = fig.add_axes([.3,.5,.5,.4])\n",
    "x = np.arange(np.shape(coef_df_sorted)[0])\n",
    "y = coef_df_sorted['coefs']\n",
    "width = 1.0\n",
    "ax.bar(x,y,width,color=(0,0,0),alpha=0.2,edgecolor='k')\n",
    "    #label the histogram\n",
    "ax.set_ylabel('Regression coefficient')\n",
    "ax.set_xticks(x)\n",
    "ax.set_xticklabels((coef_df_sorted['clean_labels']))\n",
    "plt.tick_params(direction = 'out')\n",
    "plt.xticks(rotation = 90)\n",
    "sns.despine()\n",
    "if save_on:\n",
    "    plt.savefig('beta_cofficient_histogram.png',dpi=600,edgecolor='k')"
   ]
  },
  {
   "cell_type": "markdown",
   "metadata": {
    "deletable": true,
    "editable": true
   },
   "source": [
    "# Multiclass classification with binary sessions data"
   ]
  },
  {
   "cell_type": "markdown",
   "metadata": {
    "deletable": true,
    "editable": true
   },
   "source": [
    "## Load the data and generate features"
   ]
  },
  {
   "cell_type": "code",
   "execution_count": 6,
   "metadata": {
    "collapsed": false,
    "deletable": true,
    "editable": true
   },
   "outputs": [
    {
     "name": "stdout",
     "output_type": "stream",
     "text": [
      "Loading data...\n",
      "\n",
      "Done\n",
      "Feature engineering...\n",
      "    formatting date_account_created...\n",
      "    formatting timestamp_first_active\n",
      "    formatting age\n",
      "    one-hot-feature encoding\n",
      "213451 training observations\n",
      "62096 test observations\n",
      "346 features\n",
      "213451 labels\n"
     ]
    }
   ],
   "source": [
    "#Load the data and generate features\n",
    "debug = False\n",
    "merge_classes = []\n",
    "rm_classes = []\n",
    "add_sessions = 'bin'\n",
    "training_data = '../data/train_users_2.csv'\n",
    "test_data = '../data/test_users.csv'\n",
    "add_logreg_filename = []\n",
    "rescale_predictors = True\n",
    "df_train, df_test, labels, id_train, id_test = feateng.feateng1(training_data,test_data,add_sessions,rm_classes,merge_classes,add_logreg_filename,rescale_predictors,debug)\n",
    "\n",
    "#print some information about the data\n",
    "n_train, n_feats = np.shape(df_train)\n",
    "n_test = np.shape(df_test)[0]\n",
    "n_labels = np.shape(labels)[0]\n",
    "print \"%d training observations\" % (n_train)\n",
    "print \"%d test observations\" % (n_test)\n",
    "print \"%d features\" % (n_feats)\n",
    "print \"%d labels\" % (n_labels)\n",
    "\n",
    "# encode labels as integers\n",
    "le = LabelEncoder()\n",
    "le.fit(labels)\n",
    "labels = le.transform(labels).ravel()\n",
    "bins_ = np.arange(len(le.classes_))\n",
    "bin_labels = le.inverse_transform(bins_)\n",
    "\n",
    "#split training data into train and holdout sets (last 10% of data)\n",
    "X,Y = split_train_test(df_train,labels)\n"
   ]
  },
  {
   "cell_type": "markdown",
   "metadata": {
    "deletable": true,
    "editable": true
   },
   "source": [
    "## Regularized logistic regression"
   ]
  },
  {
   "cell_type": "code",
   "execution_count": 7,
   "metadata": {
    "collapsed": false,
    "deletable": true,
    "editable": true
   },
   "outputs": [
    {
     "name": "stdout",
     "output_type": "stream",
     "text": [
      "holdout: Accuracy: 0.6515 \n",
      "holdout: AUROC micro: 0.9464 \n",
      "holdout: AUROC macro: 0.6598 \n",
      "holdout: NDCG: 0.83 \n",
      "train: Accuracy: 0.6246 \n",
      "train: AUROC micro: 0.9396 \n",
      "train: AUROC macro: 0.6400 \n",
      "train: NDCG: 0.82 \n"
     ]
    }
   ],
   "source": [
    "import pickle\n",
    "from sklearn.externals import joblib\n",
    "# load the model from disk\n",
    "filename = '../output/logregModel_binsesh.sav'\n",
    "loaded_model = joblib.load(filename)\n",
    "result = loaded_model\n",
    "pred_prob, pred, roc_macro, roc_micro, conf_mat, acc = modelResults(result,X,Y,le)\n",
    "roc_macro_all['logregModel_binsesh'] = roc_macro['holdout']"
   ]
  },
  {
   "cell_type": "code",
   "execution_count": 17,
   "metadata": {
    "collapsed": false,
    "deletable": true,
    "editable": true
   },
   "outputs": [
    {
     "data": {
      "image/png": "[encoded data removed]",
      "text/plain": [
       "<matplotlib.figure.Figure at 0x11aa6cbd0>"
      ]
     },
     "metadata": {},
     "output_type": "display_data"
    }
   ],
   "source": [
    "#plot conf matrix of probabilities\n",
    "save_on = True\n",
    "conf_mat_prob = confMatProb(pred_prob['holdout'], Y['holdout'])\n",
    "ax = plotConfMat(conf_mat_prob,bin_labels,vmax=0.75)\n",
    "if save_on:\n",
    "    plt.savefig('confmat_logreg_binsesh.pdf', dpi=600,edgecolor='k')"
   ]
  },
  {
   "cell_type": "code",
   "execution_count": 254,
   "metadata": {
    "collapsed": false,
    "deletable": true,
    "editable": true
   },
   "outputs": [
    {
     "data": {
      "image/png": "[encoded data removed]",
      "text/plain": [
       "<matplotlib.figure.Figure at 0x1204e7dd0>"
      ]
     },
     "metadata": {},
     "output_type": "display_data"
    }
   ],
   "source": [
    "plotObsPred(predict,y_true,np.arange(len(le.classes_)),le.inverse_transform(bins_))"
   ]
  },
  {
   "cell_type": "markdown",
   "metadata": {
    "deletable": true,
    "editable": true
   },
   "source": [
    "## XGBoost"
   ]
  },
  {
   "cell_type": "code",
   "execution_count": 244,
   "metadata": {
    "collapsed": false,
    "deletable": true,
    "editable": true
   },
   "outputs": [
    {
     "name": "stdout",
     "output_type": "stream",
     "text": [
      "holdout: Accuracy: 0.6963 \n",
      "holdout: AUROC micro: 0.9532 \n",
      "holdout: AUROC macro: 0.7005 \n",
      "holdout: NDCG: 0.85 \n",
      "train: Accuracy: 0.6400 \n",
      "train: AUROC micro: 0.9425 \n",
      "train: AUROC macro: 0.6519 \n",
      "train: NDCG: 0.83 \n"
     ]
    }
   ],
   "source": [
    "import pickle\n",
    "from sklearn.externals import joblib\n",
    "# load the model from disk\n",
    "filename = '../output/xgbModel_binsesh.sav'\n",
    "result = joblib.load(filename)\n",
    "result.fit(X['train'],Y['train'])\n",
    "pred_prob, pred, roc_macro, roc_micro, conf_mat, acc = modelResults(result,X,Y,le)\n",
    "roc_macro_all['xgbModel_binsesh'] = roc_macro['holdout']"
   ]
  },
  {
   "cell_type": "code",
   "execution_count": 247,
   "metadata": {
    "collapsed": false,
    "deletable": true,
    "editable": true
   },
   "outputs": [
    {
     "data": {
      "image/png": "[encoded data removed]",
      "text/plain": [
       "<matplotlib.figure.Figure at 0x120878790>"
      ]
     },
     "metadata": {},
     "output_type": "display_data"
    }
   ],
   "source": [
    "#plot conf matrix of probabilities\n",
    "save_on=True\n",
    "conf_mat_prob = confMatProb(pred_prob['holdout'], Y['holdout'])\n",
    "plotConfMat(conf_mat_prob,bin_labels,vmax=0.75)\n",
    "if save_on:\n",
    "    plt.savefig('confmat_xgb_binsesh.pdf', dpi=600,edgecolor='k')"
   ]
  },
  {
   "cell_type": "markdown",
   "metadata": {
    "collapsed": false,
    "deletable": true,
    "editable": true
   },
   "source": [
    "### plotObsPred(pred['holdout'],Y['holdout'],np.arange(len(le.classes_)),le.inverse_transform(bins_))"
   ]
  },
  {
   "cell_type": "code",
   "execution_count": 51,
   "metadata": {
    "collapsed": false,
    "deletable": true,
    "editable": true
   },
   "outputs": [
    {
     "data": {
      "text/plain": [
       "<matplotlib.axes._subplots.AxesSubplot at 0x113f1d610>"
      ]
     },
     "execution_count": 51,
     "metadata": {},
     "output_type": "execute_result"
    },
    {
     "data": {
      "image/png": "[encoded data removed]",
      "text/plain": [
       "<matplotlib.figure.Figure at 0x1144dff50>"
      ]
     },
     "metadata": {},
     "output_type": "display_data"
    }
   ],
   "source": [
    "#we can also get feature importance ranks out of XGBoost\n",
    "#there is a built in function to do this.  very cool.\n",
    "feat_imp = result.feature_importances_\n",
    "from xgboost import plot_importance\n",
    "plot_importance(result, height=0.5)\n",
    "\n",
    "#interesting to see that the results are in general agreement with logistic regression as to which \n",
    "#features are the most important.  Surprising that age was missed for logistic regressino which only\n",
    "#picked up on the missing value feature."
   ]
  },
  {
   "cell_type": "code",
   "execution_count": 136,
   "metadata": {
    "collapsed": false,
    "deletable": true,
    "editable": true
   },
   "outputs": [
    {
     "data": {
      "image/png": "[encoded data removed]",
      "text/plain": [
       "<matplotlib.figure.Figure at 0x11c323e10>"
      ]
     },
     "metadata": {},
     "output_type": "display_data"
    }
   ],
   "source": [
    "#Now let's do a manual version so that we can limit the number of features\n",
    "save_on=1\n",
    "#get feature names and importances\n",
    "feat_names = X['holdout'].columns\n",
    "feat_imp = result.feature_importances_\n",
    "#sort\n",
    "I = np.argsort(feat_imp)\n",
    "feat_names = feat_names[I]\n",
    "feat_imp = feat_imp[I]\n",
    "#hard code some clean labels\n",
    "clean_labels = ['Age','Gender: missing','Previous web page #3', 'Date account created: Year',\n",
    "                'Signup method: Facebook','Affiliate channel content','First affiliate tracked: Missing',\n",
    "                'Timestamp first active: Year', 'Signup method: Basic','Previous web page #1']\n",
    "#plot\n",
    "n_feats = 10 #how many top features to plot?  Fix to 10 if using clean labels\n",
    "fig = plt.figure()\n",
    "fig.add_axes([.4,.2,.4,.4])\n",
    "ax = plt.barh(range(n_feats),feat_imp[-n_feats:],tick_label=clean_labels[::-1],color='k')\n",
    "plt.xlabel('Feature importance')\n",
    "sns.set_style(\"ticks\")\n",
    "sns.despine()\n",
    "#save\n",
    "if save_on:\n",
    "    plt.savefig('xgb_feature_importance_barh.png',dpi=600,edgecolor='k')"
   ]
  },
  {
   "cell_type": "markdown",
   "metadata": {
    "collapsed": true,
    "deletable": true,
    "editable": true
   },
   "source": [
    "## MLP"
   ]
  },
  {
   "cell_type": "code",
   "execution_count": 221,
   "metadata": {
    "collapsed": false,
    "deletable": true,
    "editable": true
   },
   "outputs": [],
   "source": [
    "import keras\n",
    "#load the model\n",
    "filename = '../output/kerasModel_binsesh.h5'\n",
    "model = keras.models.load_model(filename)\n",
    "#generate predictions\n",
    "#format the data for fitting\n",
    "x_train = np.array(X['train'])\n",
    "y_train = keras.utils.to_categorical(Y['train'], num_classes=12)\n",
    "x_holdout = np.array(X['holdout'])\n",
    "y_holdout = keras.utils.to_categorical(Y['holdout'], num_classes=12)\n"
   ]
  },
  {
   "cell_type": "code",
   "execution_count": 242,
   "metadata": {
    "collapsed": false,
    "deletable": true,
    "editable": true
   },
   "outputs": [
    {
     "name": "stdout",
     "output_type": "stream",
     "text": [
      "train: Accuracy: 0.6490\n",
      "train: roc_macro: 0.7004\n",
      "train: roc_micro: 0.9474\n",
      "train: ndcg: 0.8309\n",
      "holdout: Accuracy: 0.7011\n",
      "holdout: roc_macro: 0.7383\n",
      "holdout: roc_micro: 0.9569\n",
      "holdout: ndcg: 0.8530\n"
     ]
    }
   ],
   "source": [
    "#train\n",
    "pred_prob = model.predict(x_train)\n",
    "predict = np.argmax(pred_prob,1)\n",
    "acc = np.mean(predict==np.argmax(y_train,1))\n",
    "roc_macro = roc_auc_score(y_train, pred_prob, average = 'macro')\n",
    "roc_micro = roc_auc_score(y_train, pred_prob, average =  'micro')\n",
    "y_true = np.argmax(y_train,1)\n",
    "k=5\n",
    "ndcg = ndcg_score(y_true, pred_prob, k)\n",
    "print \"train: Accuracy: %2.4f\" % (acc)\n",
    "print \"train: roc_macro: %2.4f\" % (roc_macro)\n",
    "print \"train: roc_micro: %2.4f\" % (roc_micro)\n",
    "print \"train: ndcg: %2.4f\" % (ndcg)\n",
    "#holdout\n",
    "pred_prob = model.predict(x_holdout)\n",
    "predict = np.argmax(pred_prob,1)\n",
    "acc = np.mean(predict==np.argmax(y_holdout,1))\n",
    "roc_macro = roc_auc_score(y_holdout, pred_prob, average = 'macro')\n",
    "roc_micro = roc_auc_score(y_holdout, pred_prob, average =  'micro')\n",
    "roc_macro_all['kerasModel_binsesh'] = roc_macro\n",
    "y_true = np.argmax(y_holdout,1)\n",
    "k=5\n",
    "ndcg = ndcg_score(y_true, pred_prob, k)\n",
    "print \"holdout: Accuracy: %2.4f\" % (acc)\n",
    "print \"holdout: roc_macro: %2.4f\" % (roc_macro)\n",
    "print \"holdout: roc_micro: %2.4f\" % (roc_micro)\n",
    "print \"holdout: ndcg: %2.4f\" % (ndcg)\n"
   ]
  },
  {
   "cell_type": "code",
   "execution_count": 246,
   "metadata": {
    "collapsed": false,
    "deletable": true,
    "editable": true
   },
   "outputs": [
    {
     "ename": "AttributeError",
     "evalue": "'dict' object has no attribute 'shape'",
     "output_type": "error",
     "traceback": [
      "\u001b[0;31m---------------------------------------------------------------------------\u001b[0m",
      "\u001b[0;31mAttributeError\u001b[0m                            Traceback (most recent call last)",
      "\u001b[0;32m<ipython-input-246-b9d7cae6fd9f>\u001b[0m in \u001b[0;36m<module>\u001b[0;34m()\u001b[0m\n\u001b[1;32m      1\u001b[0m \u001b[0;31m#plot confusion matrix\u001b[0m\u001b[0;34m\u001b[0m\u001b[0;34m\u001b[0m\u001b[0m\n\u001b[1;32m      2\u001b[0m \u001b[0msave_on\u001b[0m \u001b[0;34m=\u001b[0m \u001b[0mTrue\u001b[0m\u001b[0;34m\u001b[0m\u001b[0m\n\u001b[0;32m----> 3\u001b[0;31m \u001b[0mconf_mat_prob\u001b[0m \u001b[0;34m=\u001b[0m \u001b[0mconfMatProb\u001b[0m\u001b[0;34m(\u001b[0m\u001b[0mpred_prob\u001b[0m\u001b[0;34m,\u001b[0m\u001b[0mnp\u001b[0m\u001b[0;34m.\u001b[0m\u001b[0margmax\u001b[0m\u001b[0;34m(\u001b[0m\u001b[0my_holdout\u001b[0m\u001b[0;34m,\u001b[0m\u001b[0;36m1\u001b[0m\u001b[0;34m)\u001b[0m\u001b[0;34m)\u001b[0m\u001b[0;34m\u001b[0m\u001b[0m\n\u001b[0m\u001b[1;32m      4\u001b[0m \u001b[0mplotConfMat\u001b[0m\u001b[0;34m(\u001b[0m\u001b[0mconf_mat_prob\u001b[0m\u001b[0;34m,\u001b[0m\u001b[0mbin_labels\u001b[0m\u001b[0;34m,\u001b[0m\u001b[0mvmax\u001b[0m\u001b[0;34m=\u001b[0m\u001b[0;36m0.75\u001b[0m\u001b[0;34m)\u001b[0m\u001b[0;34m\u001b[0m\u001b[0m\n\u001b[1;32m      5\u001b[0m \u001b[0;32mif\u001b[0m \u001b[0msave_on\u001b[0m\u001b[0;34m:\u001b[0m\u001b[0;34m\u001b[0m\u001b[0m\n",
      "\u001b[0;32m<ipython-input-216-16239f09e2e5>\u001b[0m in \u001b[0;36mconfMatProb\u001b[0;34m(pred_prob, y)\u001b[0m\n\u001b[1;32m    114\u001b[0m     \u001b[0;34m-\u001b[0m \u001b[0mconf_mat_prob\u001b[0m\u001b[0;34m,\u001b[0m \u001b[0;36m2\u001b[0m\u001b[0mD\u001b[0m \u001b[0marray\u001b[0m \u001b[0;34m(\u001b[0m\u001b[0mclasses\u001b[0m \u001b[0mx\u001b[0m \u001b[0mclasses\u001b[0m\u001b[0;34m)\u001b[0m\u001b[0;34m,\u001b[0m \u001b[0mpredicted\u001b[0m \u001b[0mprobability\u001b[0m \u001b[0;32mfor\u001b[0m \u001b[0meach\u001b[0m \u001b[0;32mclass\u001b[0m \u001b[0;34m(\u001b[0m\u001b[0mrows\u001b[0m \u001b[0;34m=\u001b[0m \u001b[0mobserved\u001b[0m\u001b[0;34m,\u001b[0m \u001b[0mcols\u001b[0m \u001b[0;34m=\u001b[0m \u001b[0mpredicted\u001b[0m\u001b[0;34m)\u001b[0m\u001b[0;34m\u001b[0m\u001b[0m\n\u001b[1;32m    115\u001b[0m     \"\"\"\n\u001b[0;32m--> 116\u001b[0;31m     \u001b[0mnum_obs\u001b[0m \u001b[0;34m=\u001b[0m \u001b[0mpred_prob\u001b[0m\u001b[0;34m.\u001b[0m\u001b[0mshape\u001b[0m\u001b[0;34m[\u001b[0m\u001b[0;36m0\u001b[0m\u001b[0;34m]\u001b[0m\u001b[0;34m\u001b[0m\u001b[0m\n\u001b[0m\u001b[1;32m    117\u001b[0m     \u001b[0mnum_classes\u001b[0m \u001b[0;34m=\u001b[0m \u001b[0mpred_prob\u001b[0m\u001b[0;34m.\u001b[0m\u001b[0mshape\u001b[0m\u001b[0;34m[\u001b[0m\u001b[0;36m1\u001b[0m\u001b[0;34m]\u001b[0m\u001b[0;34m\u001b[0m\u001b[0m\n\u001b[1;32m    118\u001b[0m     \u001b[0mconf_mat_prob\u001b[0m \u001b[0;34m=\u001b[0m \u001b[0mnp\u001b[0m\u001b[0;34m.\u001b[0m\u001b[0mones\u001b[0m\u001b[0;34m(\u001b[0m\u001b[0;34m[\u001b[0m\u001b[0mnum_classes\u001b[0m\u001b[0;34m,\u001b[0m\u001b[0mnum_classes\u001b[0m\u001b[0;34m]\u001b[0m\u001b[0;34m)\u001b[0m\u001b[0;34m*\u001b[0m\u001b[0mnp\u001b[0m\u001b[0;34m.\u001b[0m\u001b[0mnan\u001b[0m\u001b[0;34m\u001b[0m\u001b[0m\n",
      "\u001b[0;31mAttributeError\u001b[0m: 'dict' object has no attribute 'shape'"
     ]
    }
   ],
   "source": [
    "#plot confusion matrix\n",
    "save_on = True\n",
    "conf_mat_prob = confMatProb(pred_prob,np.argmax(y_holdout,1))\n",
    "plotConfMat(conf_mat_prob,bin_labels,vmax=0.75)\n",
    "if save_on:\n",
    "    plt.savefig('confmat_mlp_binsesh.pdf', dpi=600,edgecolor='k')"
   ]
  },
  {
   "cell_type": "code",
   "execution_count": 284,
   "metadata": {
    "collapsed": false,
    "deletable": true,
    "editable": true
   },
   "outputs": [
    {
     "data": {
      "image/png": "[encoded data removed]",
      "text/plain": [
       "<matplotlib.figure.Figure at 0x1120a1150>"
      ]
     },
     "metadata": {},
     "output_type": "display_data"
    }
   ],
   "source": [
    "plotObsPred(predict,y_true,np.arange(len(le.classes_)),le.inverse_transform(bins_))"
   ]
  },
  {
   "cell_type": "markdown",
   "metadata": {
    "deletable": true,
    "editable": true
   },
   "source": [
    "# Multiclass classification with binary sessions data with stacked logistic regression merged predictions"
   ]
  },
  {
   "cell_type": "markdown",
   "metadata": {
    "deletable": true,
    "editable": true
   },
   "source": [
    "## Load the data and generate features"
   ]
  },
  {
   "cell_type": "code",
   "execution_count": 299,
   "metadata": {
    "collapsed": false,
    "deletable": true,
    "editable": true
   },
   "outputs": [
    {
     "name": "stdout",
     "output_type": "stream",
     "text": [
      "Loading data...\n",
      "\n",
      "Done\n",
      "Feature engineering...\n",
      "    formatting date_account_created...\n",
      "    formatting timestamp_first_active\n",
      "    formatting age\n",
      "    one-hot-feature encoding\n",
      "213451 training observations\n",
      "62096 test observations\n",
      "347 features\n",
      "213451 labels\n"
     ]
    }
   ],
   "source": [
    "#Load the data and generate features\n",
    "debug = False\n",
    "merge_classes = []\n",
    "rm_classes = []\n",
    "add_sessions = 'bin'\n",
    "training_data = '../data/train_users_2.csv'\n",
    "test_data = '../data/test_users.csv'\n",
    "add_logreg_filename = '../output/logregModel_merged_classes.sav'\n",
    "df_train, df_test, labels, id_train, id_test = feateng.feateng1(training_data,test_data,add_sessions,rm_classes,merge_classes,add_logreg_filename,rescale_predictors,debug)\n",
    "\n",
    "#print some information about the data\n",
    "n_train, n_feats = np.shape(df_train)\n",
    "n_test = np.shape(df_test)[0]\n",
    "n_labels = np.shape(labels)[0]\n",
    "print \"%d training observations\" % (n_train)\n",
    "print \"%d test observations\" % (n_test)\n",
    "print \"%d features\" % (n_feats)\n",
    "print \"%d labels\" % (n_labels)\n",
    "\n",
    "# encode labels as integers\n",
    "le = LabelEncoder()\n",
    "le.fit(labels)\n",
    "labels = le.transform(labels).ravel()\n",
    "bins_ = np.arange(len(le.classes_))\n",
    "bin_labels = le.inverse_transform(bins_)\n",
    "\n",
    "#split training data into train and holdout sets (last 10% of data)\n",
    "X,Y = split_train_test(df_train,labels)\n"
   ]
  },
  {
   "cell_type": "markdown",
   "metadata": {
    "deletable": true,
    "editable": true
   },
   "source": [
    "## Logistic regression"
   ]
  },
  {
   "cell_type": "code",
   "execution_count": 300,
   "metadata": {
    "collapsed": false,
    "deletable": true,
    "editable": true
   },
   "outputs": [
    {
     "name": "stdout",
     "output_type": "stream",
     "text": [
      "holdout: Accuracy: 0.6247 \n",
      "holdout: AUROC micro: 0.9456 \n",
      "holdout: AUROC macro: 0.6599 \n",
      "holdout: NDCG: 0.82 \n",
      "train: Accuracy: 0.6136 \n",
      "train: AUROC micro: 0.9385 \n",
      "train: AUROC macro: 0.6395 \n",
      "train: NDCG: 0.82 \n"
     ]
    }
   ],
   "source": [
    "import pickle\n",
    "from sklearn.externals import joblib\n",
    "# load the model from disk\n",
    "filename = '../output/logregModel_binsesh_addLog.sav'\n",
    "result = joblib.load(filename)\n",
    "pred_prob, pred, roc_macro, roc_micro, conf_mat, acc = modelResults(result,X,Y,le)\n",
    "roc_macro_all['logregModel_binsesh_addLog'] = roc_macro"
   ]
  },
  {
   "cell_type": "markdown",
   "metadata": {
    "deletable": true,
    "editable": true
   },
   "source": [
    "## XGBoost"
   ]
  },
  {
   "cell_type": "code",
   "execution_count": 301,
   "metadata": {
    "collapsed": false,
    "deletable": true,
    "editable": true
   },
   "outputs": [
    {
     "name": "stdout",
     "output_type": "stream",
     "text": [
      "holdout: Accuracy: 0.6970 \n",
      "holdout: AUROC micro: 0.9545 \n",
      "holdout: AUROC macro: 0.7126 \n",
      "holdout: NDCG: 0.85 \n",
      "train: Accuracy: 0.6421 \n",
      "train: AUROC micro: 0.9434 \n",
      "train: AUROC macro: 0.6627 \n",
      "train: NDCG: 0.83 \n"
     ]
    },
    {
     "ename": "NameError",
     "evalue": "name 'roc_macros' is not defined",
     "output_type": "error",
     "traceback": [
      "\u001b[0;31m---------------------------------------------------------------------------\u001b[0m",
      "\u001b[0;31mNameError\u001b[0m                                 Traceback (most recent call last)",
      "\u001b[0;32m<ipython-input-301-d805e78c65d3>\u001b[0m in \u001b[0;36m<module>\u001b[0;34m()\u001b[0m\n\u001b[1;32m      6\u001b[0m \u001b[0mresult\u001b[0m\u001b[0;34m.\u001b[0m\u001b[0mfit\u001b[0m\u001b[0;34m(\u001b[0m\u001b[0mX\u001b[0m\u001b[0;34m[\u001b[0m\u001b[0;34m'train'\u001b[0m\u001b[0;34m]\u001b[0m\u001b[0;34m,\u001b[0m\u001b[0mY\u001b[0m\u001b[0;34m[\u001b[0m\u001b[0;34m'train'\u001b[0m\u001b[0;34m]\u001b[0m\u001b[0;34m)\u001b[0m\u001b[0;34m\u001b[0m\u001b[0m\n\u001b[1;32m      7\u001b[0m \u001b[0mpred_prob\u001b[0m\u001b[0;34m,\u001b[0m \u001b[0mpred\u001b[0m\u001b[0;34m,\u001b[0m \u001b[0mroc_macro\u001b[0m\u001b[0;34m,\u001b[0m \u001b[0mroc_micro\u001b[0m\u001b[0;34m,\u001b[0m \u001b[0mconf_mat\u001b[0m\u001b[0;34m,\u001b[0m \u001b[0macc\u001b[0m \u001b[0;34m=\u001b[0m \u001b[0mmodelResults\u001b[0m\u001b[0;34m(\u001b[0m\u001b[0mresult\u001b[0m\u001b[0;34m,\u001b[0m\u001b[0mX\u001b[0m\u001b[0;34m,\u001b[0m\u001b[0mY\u001b[0m\u001b[0;34m,\u001b[0m\u001b[0mle\u001b[0m\u001b[0;34m)\u001b[0m\u001b[0;34m\u001b[0m\u001b[0m\n\u001b[0;32m----> 8\u001b[0;31m \u001b[0mroc_macro_all\u001b[0m\u001b[0;34m[\u001b[0m\u001b[0;34m'xgbModel_binsesh_addLog'\u001b[0m\u001b[0;34m]\u001b[0m \u001b[0;34m=\u001b[0m \u001b[0mroc_macros\u001b[0m\u001b[0;34m\u001b[0m\u001b[0m\n\u001b[0m",
      "\u001b[0;31mNameError\u001b[0m: name 'roc_macros' is not defined"
     ]
    }
   ],
   "source": [
    "import pickle\n",
    "from sklearn.externals import joblib\n",
    "# load the model from disk\n",
    "filename = '../output/xgbModel_binsesh_addLog.sav'\n",
    "result = joblib.load(filename)\n",
    "result.fit(X['train'],Y['train'])\n",
    "pred_prob, pred, roc_macro, roc_micro, conf_mat, acc = modelResults(result,X,Y,le)\n",
    "roc_macro_all['xgbModel_binsesh_addLog'] = roc_macro['holdout']"
   ]
  },
  {
   "cell_type": "code",
   "execution_count": 202,
   "metadata": {
    "collapsed": false,
    "deletable": true,
    "editable": true
   },
   "outputs": [
    {
     "data": {
      "image/png": "[encoded data removed]",
      "text/plain": [
       "<matplotlib.figure.Figure at 0x11b553710>"
      ]
     },
     "metadata": {},
     "output_type": "display_data"
    }
   ],
   "source": [
    "#plot conf matrix of probabilities\n",
    "conf_mat_prob = confMatProb(pred_prob['holdout'], Y['holdout'])\n",
    "plotConfMat(conf_mat_prob,bin_labels)"
   ]
  },
  {
   "cell_type": "code",
   "execution_count": 203,
   "metadata": {
    "collapsed": false,
    "deletable": true,
    "editable": true
   },
   "outputs": [
    {
     "data": {
      "image/png": "[encoded data removed]",
      "text/plain": [
       "<matplotlib.figure.Figure at 0x13188ef10>"
      ]
     },
     "metadata": {},
     "output_type": "display_data"
    }
   ],
   "source": [
    "plotObsPred(predict,y_true,np.arange(len(le.classes_)),le.inverse_transform(bins_))"
   ]
  },
  {
   "cell_type": "markdown",
   "metadata": {
    "deletable": true,
    "editable": true
   },
   "source": [
    "## MLP"
   ]
  },
  {
   "cell_type": "code",
   "execution_count": 309,
   "metadata": {
    "collapsed": true,
    "deletable": true,
    "editable": true
   },
   "outputs": [],
   "source": [
    "import keras\n",
    "#load the model\n",
    "filename = '../output/kerasModel_binsesh_addLog.h5'\n",
    "model = keras.models.load_model(filename)\n",
    "#generate predictions\n",
    "#format the data for fitting\n",
    "x_train = np.array(X['train'])\n",
    "y_train = keras.utils.to_categorical(Y['train'], num_classes=12)\n",
    "x_holdout = np.array(X['holdout'])\n",
    "y_holdout = keras.utils.to_categorical(Y['holdout'], num_classes=12)\n"
   ]
  },
  {
   "cell_type": "code",
   "execution_count": 311,
   "metadata": {
    "collapsed": false,
    "deletable": true,
    "editable": true
   },
   "outputs": [
    {
     "name": "stdout",
     "output_type": "stream",
     "text": [
      "train: Accuracy: 0.6467\n",
      "train: roc_macro: 0.6966\n",
      "train: roc_micro: 0.9465\n",
      "train: ndcg: 0.8301\n",
      "holdout: Accuracy: 0.7008\n",
      "holdout: roc_macro: 0.7340\n",
      "holdout: roc_micro: 0.9565\n",
      "holdout: ndcg: 0.8530\n"
     ]
    }
   ],
   "source": [
    "#train\n",
    "pred_prob = model.predict(x_train)\n",
    "predict = np.argmax(pred_prob,1)\n",
    "acc = np.mean(predict==np.argmax(y_train,1))\n",
    "roc_macro = roc_auc_score(y_train, pred_prob, average = 'macro')\n",
    "roc_micro = roc_auc_score(y_train, pred_prob, average =  'micro')\n",
    "y_true = np.argmax(y_train,1)\n",
    "k=5\n",
    "ndcg = ndcg_score(y_true, pred_prob, k)\n",
    "print \"train: Accuracy: %2.4f\" % (acc)\n",
    "print \"train: roc_macro: %2.4f\" % (roc_macro)\n",
    "print \"train: roc_micro: %2.4f\" % (roc_micro)\n",
    "print \"train: ndcg: %2.4f\" % (ndcg)\n",
    "#holdout\n",
    "pred_prob = model.predict(x_holdout)\n",
    "predict = np.argmax(pred_prob,1)\n",
    "acc = np.mean(predict==np.argmax(y_holdout,1))\n",
    "roc_macro = roc_auc_score(y_holdout, pred_prob, average = 'macro')\n",
    "roc_micro = roc_auc_score(y_holdout, pred_prob, average =  'micro')\n",
    "roc_macro_all['kerasModel_binsesh_addLog'] = roc_macro\n",
    "y_true = np.argmax(y_holdout,1)\n",
    "k=5\n",
    "ndcg = ndcg_score(y_true, pred_prob, k)\n",
    "print \"holdout: Accuracy: %2.4f\" % (acc)\n",
    "print \"holdout: roc_macro: %2.4f\" % (roc_macro)\n",
    "print \"holdout: roc_micro: %2.4f\" % (roc_micro)\n",
    "print \"holdout: ndcg: %2.4f\" % (ndcg)\n"
   ]
  },
  {
   "cell_type": "code",
   "execution_count": 217,
   "metadata": {
    "collapsed": false,
    "deletable": true,
    "editable": true
   },
   "outputs": [
    {
     "data": {
      "image/png": "[encoded data removed]",
      "text/plain": [
       "<matplotlib.figure.Figure at 0x1120973d0>"
      ]
     },
     "metadata": {},
     "output_type": "display_data"
    }
   ],
   "source": [
    "#plot confusion matrix\n",
    "conf_mat_prob = confMatProb(pred_prob,np.argmax(y_holdout,1))\n",
    "plotConfMat(conf_mat_prob,bin_labels)"
   ]
  },
  {
   "cell_type": "code",
   "execution_count": 218,
   "metadata": {
    "collapsed": true,
    "deletable": true,
    "editable": true
   },
   "outputs": [],
   "source": [
    "#generate submission file\n",
    "#format the test data.\n",
    "x_test = np.array(df_test)\n",
    "pred_test = model.predict(x_test)\n",
    "#generate submission file\n",
    "get_sub(pred_test,id_test,'keras_binsesh_addLog.csv',le)"
   ]
  },
  {
   "cell_type": "markdown",
   "metadata": {
    "deletable": true,
    "editable": true
   },
   "source": [
    "# Multiclass classification with no sessions data"
   ]
  },
  {
   "cell_type": "markdown",
   "metadata": {
    "deletable": true,
    "editable": true
   },
   "source": [
    "## Load the data and generate features"
   ]
  },
  {
   "cell_type": "code",
   "execution_count": 3,
   "metadata": {
    "collapsed": false,
    "deletable": true,
    "editable": true
   },
   "outputs": [
    {
     "name": "stdout",
     "output_type": "stream",
     "text": [
      "Loading data...\n",
      "\n",
      "Done\n",
      "Feature engineering...\n",
      "    formatting date_account_created...\n",
      "    formatting timestamp_first_active\n",
      "    formatting age\n",
      "    one-hot-feature encoding\n"
     ]
    },
    {
     "name": "stderr",
     "output_type": "stream",
     "text": [
      "/Users/purcelba/Career/DataScience/GitHub_/kaggle_airbnb_new_user_booking/airbnb/feateng.py:131: RuntimeWarning: invalid value encountered in less\n",
      "  df_all['age'] = np.where(np.logical_or(av<14, av>100), np.nan, av)\n",
      "/Users/purcelba/Career/DataScience/GitHub_/kaggle_airbnb_new_user_booking/airbnb/feateng.py:131: RuntimeWarning: invalid value encountered in greater\n",
      "  df_all['age'] = np.where(np.logical_or(av<14, av>100), np.nan, av)\n"
     ]
    },
    {
     "name": "stdout",
     "output_type": "stream",
     "text": [
      "213451 training observations\n",
      "62096 test observations\n",
      "166 features\n",
      "213451 labels\n"
     ]
    },
    {
     "name": "stderr",
     "output_type": "stream",
     "text": [
      "/Users/purcelba/anaconda/envs/Python2.7/lib/python2.7/site-packages/sklearn/preprocessing/label.py:112: DataConversionWarning: A column-vector y was passed when a 1d array was expected. Please change the shape of y to (n_samples, ), for example using ravel().\n",
      "  y = column_or_1d(y, warn=True)\n",
      "/Users/purcelba/anaconda/envs/Python2.7/lib/python2.7/site-packages/sklearn/preprocessing/label.py:147: DataConversionWarning: A column-vector y was passed when a 1d array was expected. Please change the shape of y to (n_samples, ), for example using ravel().\n",
      "  y = column_or_1d(y, warn=True)\n"
     ]
    }
   ],
   "source": [
    "#Load the data and generate features\n",
    "debug = False\n",
    "merge_classes = []\n",
    "rm_classes = []\n",
    "rescale_predictors = True\n",
    "add_sessions = 'none'\n",
    "training_data = '../data/train_users_2.csv'\n",
    "test_data = '../data/test_users.csv'\n",
    "add_logreg_filename = []\n",
    "df_train, df_test, labels, id_train, id_test = feateng.feateng1(training_data,test_data,add_sessions,rm_classes,merge_classes,add_logreg_filename,rescale_predictors,debug)\n",
    "\n",
    "#print some information about the data\n",
    "n_train, n_feats = np.shape(df_train)\n",
    "n_test = np.shape(df_test)[0]\n",
    "n_labels = np.shape(labels)[0]\n",
    "print \"%d training observations\" % (n_train)\n",
    "print \"%d test observations\" % (n_test)\n",
    "print \"%d features\" % (n_feats)\n",
    "print \"%d labels\" % (n_labels)\n",
    "\n",
    "# encode labels as integers\n",
    "le = LabelEncoder()\n",
    "le.fit(labels)\n",
    "labels = le.transform(labels).ravel()\n",
    "bins_ = np.arange(len(le.classes_))\n",
    "bin_labels = le.inverse_transform(bins_)\n",
    "\n",
    "#split training data into train and holdout sets (last 10% of data)\n",
    "X,Y = split_train_test(df_train,labels)\n"
   ]
  },
  {
   "cell_type": "markdown",
   "metadata": {
    "deletable": true,
    "editable": true
   },
   "source": [
    "## Logistic regression"
   ]
  },
  {
   "cell_type": "code",
   "execution_count": 5,
   "metadata": {
    "collapsed": false,
    "deletable": true,
    "editable": true
   },
   "outputs": [
    {
     "name": "stdout",
     "output_type": "stream",
     "text": [
      "holdout: Accuracy: 0.6515 \n",
      "holdout: AUROC micro: 0.9472 \n",
      "holdout: AUROC macro: 0.6605 \n",
      "holdout: NDCG: 0.83 \n",
      "train: Accuracy: 0.6246 \n",
      "train: AUROC micro: 0.9402 \n",
      "train: AUROC macro: 0.6425 \n",
      "train: NDCG: 0.82 \n"
     ]
    }
   ],
   "source": [
    "import pickle\n",
    "from sklearn.externals import joblib\n",
    "# load the model from disk\n",
    "filename = '../output/logregModel_nonesesh.sav'\n",
    "result = joblib.load(filename)\n",
    "pred_prob, pred, roc_macro, roc_micro, conf_mat, acc = modelResults(result,X,Y,le)\n",
    "roc_macro_all['logregModel_nonesesh'] = roc_macro['holdout']"
   ]
  },
  {
   "cell_type": "markdown",
   "metadata": {
    "deletable": true,
    "editable": true
   },
   "source": [
    "## XGBoost"
   ]
  },
  {
   "cell_type": "code",
   "execution_count": 7,
   "metadata": {
    "collapsed": false,
    "deletable": true,
    "editable": true
   },
   "outputs": [
    {
     "name": "stdout",
     "output_type": "stream",
     "text": [
      "holdout: Accuracy: 0.6580 \n",
      "holdout: AUROC micro: 0.9461 \n",
      "holdout: AUROC macro: 0.6316 \n",
      "holdout: NDCG: 0.84 \n",
      "train: Accuracy: 0.6290 \n",
      "train: AUROC micro: 0.9396 \n",
      "train: AUROC macro: 0.6301 \n",
      "train: NDCG: 0.82 \n"
     ]
    }
   ],
   "source": [
    "import pickle\n",
    "from sklearn.externals import joblib\n",
    "# load the model from disk\n",
    "filename = '../output/xgbModel_nonesesh.sav'\n",
    "result = joblib.load(filename)\n",
    "result.fit(X['train'],Y['train'])\n",
    "pred_prob, pred, roc_macro, roc_micro, conf_mat, acc = modelResults(result,X,Y,le)\n",
    "roc_macro_all['xgbModel_nonesesh'] = roc_macro['holdout']"
   ]
  },
  {
   "cell_type": "markdown",
   "metadata": {
    "deletable": true,
    "editable": true
   },
   "source": [
    "## MLP"
   ]
  },
  {
   "cell_type": "code",
   "execution_count": 8,
   "metadata": {
    "collapsed": false,
    "deletable": true,
    "editable": true
   },
   "outputs": [
    {
     "name": "stderr",
     "output_type": "stream",
     "text": [
      "Using TensorFlow backend.\n"
     ]
    }
   ],
   "source": [
    "import keras\n",
    "#load the model\n",
    "filename = '../output/kerasModel_nonesesh.h5'\n",
    "model = keras.models.load_model(filename)\n",
    "#generate predictions\n",
    "#format the data for fitting\n",
    "x_train = np.array(X['train'])\n",
    "y_train = keras.utils.to_categorical(Y['train'], num_classes=12)\n",
    "x_holdout = np.array(X['holdout'])\n",
    "y_holdout = keras.utils.to_categorical(Y['holdout'], num_classes=12)\n"
   ]
  },
  {
   "cell_type": "code",
   "execution_count": 9,
   "metadata": {
    "collapsed": false,
    "deletable": true,
    "editable": true
   },
   "outputs": [
    {
     "name": "stdout",
     "output_type": "stream",
     "text": [
      "train: Accuracy: 0.6345\n",
      "train: roc_macro: 0.6828\n",
      "train: roc_micro: 0.9448\n",
      "train: ndcg: 0.8255\n",
      "holdout: Accuracy: 0.6528\n",
      "holdout: roc_macro: 0.6742\n",
      "holdout: roc_micro: 0.9492\n",
      "holdout: ndcg: 0.8351\n"
     ]
    }
   ],
   "source": [
    "#train\n",
    "pred_prob = model.predict(x_train)\n",
    "predict = np.argmax(pred_prob,1)\n",
    "acc = np.mean(predict==np.argmax(y_train,1))\n",
    "roc_macro = roc_auc_score(y_train, pred_prob, average = 'macro')\n",
    "roc_micro = roc_auc_score(y_train, pred_prob, average =  'micro')\n",
    "y_true = np.argmax(y_train,1)\n",
    "k=5\n",
    "ndcg = ndcg_score(y_true, pred_prob, k)\n",
    "print \"train: Accuracy: %2.4f\" % (acc)\n",
    "print \"train: roc_macro: %2.4f\" % (roc_macro)\n",
    "print \"train: roc_micro: %2.4f\" % (roc_micro)\n",
    "print \"train: ndcg: %2.4f\" % (ndcg)\n",
    "#holdout\n",
    "pred_prob = model.predict(x_holdout)\n",
    "predict = np.argmax(pred_prob,1)\n",
    "acc = np.mean(predict==np.argmax(y_holdout,1))\n",
    "roc_macro = roc_auc_score(y_holdout, pred_prob, average = 'macro')\n",
    "roc_micro = roc_auc_score(y_holdout, pred_prob, average =  'micro')\n",
    "roc_macro_all['kerasModel_binsesh_addLog'] = roc_macro\n",
    "y_true = np.argmax(y_holdout,1)\n",
    "k=5\n",
    "ndcg = ndcg_score(y_true, pred_prob, k)\n",
    "print \"holdout: Accuracy: %2.4f\" % (acc)\n",
    "print \"holdout: roc_macro: %2.4f\" % (roc_macro)\n",
    "print \"holdout: roc_micro: %2.4f\" % (roc_micro)\n",
    "print \"holdout: ndcg: %2.4f\" % (ndcg)\n"
   ]
  },
  {
   "cell_type": "markdown",
   "metadata": {
    "deletable": true,
    "editable": true
   },
   "source": [
    "# Plotting auROC comparison"
   ]
  },
  {
   "cell_type": "code",
   "execution_count": 155,
   "metadata": {
    "collapsed": false,
    "deletable": true,
    "editable": true
   },
   "outputs": [
    {
     "data": {
      "image/png": "[encoded data removed]",
      "text/plain": [
       "<matplotlib.figure.Figure at 0x1197977d0>"
      ]
     },
     "metadata": {},
     "output_type": "display_data"
    }
   ],
   "source": [
    "save_on = True\n",
    "roc_plot = [roc_macro_all['logregModel_binsesh'],\n",
    "            roc_macro_all['xgbModel_binsesh'],\n",
    "            roc_macro_all['kerasModel_binsesh']]\n",
    "fig = plt.figure()\n",
    "ax = fig.add_axes([.2,.2,.3,.3])\n",
    "ax.bar([1,2,3],roc_plot,facecolor=[.6,.6,.6])\n",
    "ax.set_ylim([0.5,0.8])\n",
    "ax.set_ylabel('Macro auROC \\n(Holdout set)')\n",
    "ax.set_xticks([1,2,3])\n",
    "ax.set_xticklabels(['LogReg','XGB','MLP'])\n",
    "sns.set_style(\"ticks\")\n",
    "sns.despine()\n",
    "if save_on:\n",
    "    plt.savefig('auROC.png',dpi=600,edgecolor='k')"
   ]
  },
  {
   "cell_type": "markdown",
   "metadata": {
    "deletable": true,
    "editable": true
   },
   "source": [
    "# Plotting proportion new user booking by age bin."
   ]
  },
  {
   "cell_type": "code",
   "execution_count": 27,
   "metadata": {
    "collapsed": false,
    "deletable": true,
    "editable": true
   },
   "outputs": [
    {
     "name": "stdout",
     "output_type": "stream",
     "text": [
      "Loading data...\n",
      "\n",
      "Done\n",
      "Feature engineering...\n",
      "    formatting date_account_created...\n",
      "    formatting timestamp_first_active\n",
      "    formatting age\n",
      "    one-hot-feature encoding\n"
     ]
    }
   ],
   "source": [
    "#Load the data and generate features\n",
    "debug = False\n",
    "merge_classes = ['other','US','FR','CA','GB','ES','IT','PT','NL','DE','AU']\n",
    "rm_classes = []\n",
    "rescale_predictors = False\n",
    "add_sessions = 'none'\n",
    "training_data = '../data/train_users_2.csv'\n",
    "test_data = '../data/test_users.csv'\n",
    "add_logreg_filename = []\n",
    "df_train, df_test, labels, id_train, id_test = feateng.feateng1(training_data,test_data,add_sessions,rm_classes,merge_classes,add_logreg_filename,rescale_predictors,debug)\n"
   ]
  },
  {
   "cell_type": "code",
   "execution_count": 108,
   "metadata": {
    "collapsed": false,
    "deletable": true,
    "editable": true
   },
   "outputs": [],
   "source": [
    "# bin observations by age, plot the proportion of new user bookings in each bin\n",
    "bins = [0, 20, 30, 40, 50, 60, 70, 80, 90, 100]\n",
    "label_names = [\"10-20\",\"20-30\",\"30-40\",\"40-50\",\"50-60\",\"60-70\",\"70-80\",\"80-90\",\"90-100\"]\n",
    "categories = np.array(pd.cut(df_train['age'],bins, labels=label_names))\n",
    "booked = np.array(labels['country_destination'] != 'NDF')\n",
    "booked[~pd.isnull(categories)]\n",
    "categories[~pd.isnull(categories)]"
   ]
  },
  {
   "cell_type": "code",
   "execution_count": 125,
   "metadata": {
    "collapsed": false,
    "deletable": true,
    "editable": true
   },
   "outputs": [
    {
     "data": {
      "image/png": "[encoded data removed]",
      "text/plain": [
       "<matplotlib.figure.Figure at 0x114f16b90>"
      ]
     },
     "metadata": {},
     "output_type": "display_data"
    }
   ],
   "source": [
    "#plot the probability of a booking as a function of age bins\n",
    "save_on = 1\n",
    "    #compute mean and se for each bin\n",
    "pBook = {'p':[],'n':[],'se':[]}\n",
    "for l in label_names:\n",
    "    p = np.mean(booked[categories==l])\n",
    "    n = np.sum(~pd.isnull(booked[categories==l]))\n",
    "    se = np.sqrt(p*(1-p)/n)\n",
    "    pBook['p'].append(p)\n",
    "    pBook['n'].append(n)\n",
    "    pBook['se'].append(se)\n",
    "    #plot it\n",
    "fig = plt.figure(figsize=(5,4))    \n",
    "ax = fig.add_axes([0.3,0.3,.5,.5])\n",
    "ax.errorbar(range(len(label_names)),pBook['p'],yerr=pBook['se'],color='k',marker='.',markersize=12)\n",
    "ax.set_xticks(range(len(label_names)))\n",
    "ax.set_xticklabels(label_names,rotation=45)\n",
    "ax.set_xlabel('Age (yrs)')\n",
    "ax.set_ylabel('P(Booked destination)')\n",
    "sns.set_style(\"ticks\")\n",
    "sns.despine()\n",
    "#save\n",
    "if save_on:\n",
    "    plt.savefig('pBook_age_bins.png',dpi=600,edgecolor='k')"
   ]
  }
 ],
 "metadata": {
  "kernelspec": {
   "display_name": "Python 2",
   "language": "python",
   "name": "python2"
  },
  "language_info": {
   "codemirror_mode": {
    "name": "ipython",
    "version": 2
   },
   "file_extension": ".py",
   "mimetype": "text/x-python",
   "name": "python",
   "nbconvert_exporter": "python",
   "pygments_lexer": "ipython2",
   "version": "2.7.12"
  }
 },
 "nbformat": 4,
 "nbformat_minor": 2
}
