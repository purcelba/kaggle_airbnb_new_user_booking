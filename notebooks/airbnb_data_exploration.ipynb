{
 "cells": [
  {
   "cell_type": "markdown",
   "metadata": {
    "deletable": true,
    "editable": true,
    "slideshow": {
     "slide_type": "-"
    }
   },
   "source": [
    "# Kaggle challenge: Airbnb - New User Bookings\n",
    "# Data exploration"
   ]
  },
  {
   "cell_type": "markdown",
   "metadata": {
    "deletable": true,
    "editable": true
   },
   "source": [
    "This notebook documents exploratory analyses of the data sets used for the Kaggle \"Airbnb -New User Bookings\" competition. Distributions of each variable are plotted and missing values are identified.\n",
    "\n",
    "See the [Kaggle announcement](https://www.kaggle.com/c/airbnb-recruiting-new-user-bookings) for details about the challenge.  See [my blog post](https://purcelba.github.io/Kaggle-airbnb/) for a summary of my analysis and modeling. A notebook that implements the modeling can be found [here](https://github.com/purcelba/kaggle_airbnb_new_user_booking/blob/master/notebooks/airbnb_models.ipynbSee). "
   ]
  },
  {
   "cell_type": "markdown",
   "metadata": {
    "deletable": true,
    "editable": true
   },
   "source": [
    "## Instructions"
   ]
  },
  {
   "cell_type": "markdown",
   "metadata": {
    "deletable": true,
    "editable": true
   },
   "source": [
    "In this challenge, you are given a list of users along with their demographics, web session records, and some summary statistics. __You are asked to predict which country a new user's first booking destination will be.__ All the users in this dataset are from the USA.\n",
    "\n",
    "There are 12 possible outcomes of the destination country: 'US', 'FR', 'CA', 'GB', 'ES', 'IT', 'PT', 'NL','DE', 'AU', 'NDF' (no destination found), and 'other'. 'NDF' is different from 'other' because 'other' means there was a booking to a country not listed above, but 'NDF' means there was no booking.\n",
    "\n",
    "The training and test sets are split by dates. In the test set, you will predict all the new users with first activities after 7/1/2014.  In the sessions dataset, the data only dates back to 1/1/2014, while the users dataset dates back to 2010. "
   ]
  },
  {
   "cell_type": "markdown",
   "metadata": {
    "deletable": true,
    "editable": true
   },
   "source": [
    "## Data"
   ]
  },
  {
   "cell_type": "markdown",
   "metadata": {
    "deletable": true,
    "editable": true
   },
   "source": [
    "The data are available for download [here](https://www.kaggle.com/c/airbnb-recruiting-new-user-bookings/data).\n",
    "The core data files are the following:\n",
    "- train_users_2.csv - the training set of user inforation with country destination provided (6/28/10 - 6/30/14)\n",
    "- test_users.csv - the test set of user information with country destination to be predicted (7/1/14 - 9/30/14)"
   ]
  },
  {
   "cell_type": "markdown",
   "metadata": {
    "deletable": true,
    "editable": true
   },
   "source": [
    "# Data overview"
   ]
  },
  {
   "cell_type": "code",
   "execution_count": 1,
   "metadata": {
    "collapsed": false,
    "deletable": true,
    "editable": true
   },
   "outputs": [],
   "source": [
    "import numpy as np\n",
    "import pandas as pd\n",
    "import matplotlib.pyplot as plt\n",
    "import os\n",
    "import datetime\n",
    "import seaborn as sns\n",
    "%matplotlib inline"
   ]
  },
  {
   "cell_type": "markdown",
   "metadata": {
    "deletable": true,
    "editable": true
   },
   "source": [
    "Load the data and report summary statistics."
   ]
  },
  {
   "cell_type": "code",
   "execution_count": 3,
   "metadata": {
    "collapsed": false,
    "deletable": true,
    "editable": true
   },
   "outputs": [],
   "source": [
    "data_path = '../data/'\n",
    "df_train = pd.read_csv(data_path + 'train_users_2.csv')            #load training data\n",
    "df_test = pd.read_csv(data_path + 'test_users.csv')                #load testing data\n",
    "df_all = pd.concat((df_train, df_test), axis=0, ignore_index=True) #combine train/test for convenience later"
   ]
  },
  {
   "cell_type": "markdown",
   "metadata": {
    "deletable": true,
    "editable": true
   },
   "source": [
    "Print some summary statistics"
   ]
  },
  {
   "cell_type": "code",
   "execution_count": 4,
   "metadata": {
    "collapsed": false,
    "deletable": true,
    "editable": true
   },
   "outputs": [
    {
     "name": "stdout",
     "output_type": "stream",
     "text": [
      "213451 users in the training set.\n",
      "62096 users in the test set.\n",
      "275547 total users.\n"
     ]
    }
   ],
   "source": [
    "print(\"%d users in the training set.\" % df_train.shape[0])\n",
    "print(\"%d users in the test set.\" % df_test.shape[0])\n",
    "n_users = df_train.shape[0] + df_test.shape[0]\n",
    "print(\"%d total users.\" % n_users)"
   ]
  },
  {
   "cell_type": "markdown",
   "metadata": {
    "deletable": true,
    "editable": true
   },
   "source": [
    "Data preview"
   ]
  },
  {
   "cell_type": "code",
   "execution_count": 5,
   "metadata": {
    "collapsed": false,
    "deletable": true,
    "editable": true
   },
   "outputs": [
    {
     "data": {
      "text/html": [
       "<div>\n",
       "<style>\n",
       "    .dataframe thead tr:only-child th {\n",
       "        text-align: right;\n",
       "    }\n",
       "\n",
       "    .dataframe thead th {\n",
       "        text-align: left;\n",
       "    }\n",
       "\n",
       "    .dataframe tbody tr th {\n",
       "        vertical-align: top;\n",
       "    }\n",
       "</style>\n",
       "<table border=\"1\" class=\"dataframe\">\n",
       "  <thead>\n",
       "    <tr style=\"text-align: right;\">\n",
       "      <th></th>\n",
       "      <th>id</th>\n",
       "      <th>date_account_created</th>\n",
       "      <th>timestamp_first_active</th>\n",
       "      <th>date_first_booking</th>\n",
       "      <th>gender</th>\n",
       "      <th>age</th>\n",
       "      <th>language</th>\n",
       "      <th>country_destination</th>\n",
       "    </tr>\n",
       "  </thead>\n",
       "  <tbody>\n",
       "    <tr>\n",
       "      <th>0</th>\n",
       "      <td>gxn3p5htnn</td>\n",
       "      <td>2010-06-28</td>\n",
       "      <td>20090319043255</td>\n",
       "      <td>NaN</td>\n",
       "      <td>-unknown-</td>\n",
       "      <td>NaN</td>\n",
       "      <td>en</td>\n",
       "      <td>NDF</td>\n",
       "    </tr>\n",
       "    <tr>\n",
       "      <th>1</th>\n",
       "      <td>820tgsjxq7</td>\n",
       "      <td>2011-05-25</td>\n",
       "      <td>20090523174809</td>\n",
       "      <td>NaN</td>\n",
       "      <td>MALE</td>\n",
       "      <td>38.0</td>\n",
       "      <td>en</td>\n",
       "      <td>NDF</td>\n",
       "    </tr>\n",
       "    <tr>\n",
       "      <th>2</th>\n",
       "      <td>4ft3gnwmtx</td>\n",
       "      <td>2010-09-28</td>\n",
       "      <td>20090609231247</td>\n",
       "      <td>2010-08-02</td>\n",
       "      <td>FEMALE</td>\n",
       "      <td>56.0</td>\n",
       "      <td>en</td>\n",
       "      <td>US</td>\n",
       "    </tr>\n",
       "    <tr>\n",
       "      <th>3</th>\n",
       "      <td>bjjt8pjhuk</td>\n",
       "      <td>2011-12-05</td>\n",
       "      <td>20091031060129</td>\n",
       "      <td>2012-09-08</td>\n",
       "      <td>FEMALE</td>\n",
       "      <td>42.0</td>\n",
       "      <td>en</td>\n",
       "      <td>other</td>\n",
       "    </tr>\n",
       "    <tr>\n",
       "      <th>4</th>\n",
       "      <td>87mebub9p4</td>\n",
       "      <td>2010-09-14</td>\n",
       "      <td>20091208061105</td>\n",
       "      <td>2010-02-18</td>\n",
       "      <td>-unknown-</td>\n",
       "      <td>41.0</td>\n",
       "      <td>en</td>\n",
       "      <td>US</td>\n",
       "    </tr>\n",
       "  </tbody>\n",
       "</table>\n",
       "</div>"
      ],
      "text/plain": [
       "           id date_account_created  timestamp_first_active date_first_booking  \\\n",
       "0  gxn3p5htnn           2010-06-28          20090319043255                NaN   \n",
       "1  820tgsjxq7           2011-05-25          20090523174809                NaN   \n",
       "2  4ft3gnwmtx           2010-09-28          20090609231247         2010-08-02   \n",
       "3  bjjt8pjhuk           2011-12-05          20091031060129         2012-09-08   \n",
       "4  87mebub9p4           2010-09-14          20091208061105         2010-02-18   \n",
       "\n",
       "      gender   age language country_destination  \n",
       "0  -unknown-   NaN       en                 NDF  \n",
       "1       MALE  38.0       en                 NDF  \n",
       "2     FEMALE  56.0       en                  US  \n",
       "3     FEMALE  42.0       en               other  \n",
       "4  -unknown-  41.0       en                  US  "
      ]
     },
     "execution_count": 5,
     "metadata": {},
     "output_type": "execute_result"
    }
   ],
   "source": [
    "df_train.iloc[0:5,[0,1,2,3,4,5,8,15]]"
   ]
  },
  {
   "cell_type": "markdown",
   "metadata": {
    "deletable": true,
    "editable": true
   },
   "source": [
    "## Data processing functions\n",
    "\n",
    "Define a set of functions to provide useful summary statistics and plots for variable in the data set.  Descriptions are provided in the docstrings."
   ]
  },
  {
   "cell_type": "code",
   "execution_count": 9,
   "metadata": {
    "collapsed": false,
    "deletable": true,
    "editable": true
   },
   "outputs": [],
   "source": [
    "def cate_hist(df, col_name):\n",
    "    \"\"\"\n",
    "    This function will generate a simple formatted histogram of counts for any \n",
    "    column of a DataFrame with categorical entries.\n",
    "    \n",
    "    Args:\n",
    "        df (DataFrame): the dataframe from which data will be plotted\n",
    "        col_name (str): the name of the DataFrame column to be plotted\n",
    "        \n",
    "    Returns:\n",
    "        categories: the list of categories in the dataframe column.\n",
    "        counts: the number of occurences of that category\n",
    "    \"\"\"\n",
    "        #get list of category labels and count\n",
    "    categories = pd.unique(df[col_name].ravel())\n",
    "    count = [np.sum(df[col_name]==x) for x in categories]\n",
    "        #generate the histogram\n",
    "    fig = plt.figure()\n",
    "    ax = fig.add_axes([.2,.6,1,.4])\n",
    "    \n",
    "    x = np.arange(len(categories))\n",
    "    y = count\n",
    "    width = 1.0\n",
    "    ax.bar(x,y,width,color='r')\n",
    "        #label the histogram\n",
    "    ax.set_xlabel(col_name)\n",
    "    ax.set_ylabel('Frequency')\n",
    "    ax.set_xticks(x)\n",
    "    ax.set_xticklabels((categories))\n",
    "    plt.tick_params(direction = 'out')\n",
    "    plt.xticks(rotation = 90)\n",
    "    \n",
    "    return categories, count\n",
    "\n",
    "def cate_prop_se(df, col_name, categories = None):\n",
    "    \"\"\"\n",
    "    Given some DataFrame and column name, for each unique element in the column, \n",
    "    compute the proportion and standard error.    \n",
    "\n",
    "    Args:\n",
    "        df (DataFrame):               the dataframe from which data will be plotted\n",
    "        col_name (str):               the name of the DataFrame column to be plotted\n",
    "        categories (array, optional): if provided, defines the categories to use, filling in NaNs if\n",
    "                                      a category is not found.  If not provided, then will infer categories\n",
    "                                      from df.\n",
    "        \n",
    "    Returns:\n",
    "        categories: the list of categories in the dataframe column\n",
    "        prop: the proportion of rows matching the category. Should sum to 1.0 unless there are missing values (NaNs).\n",
    "        se: the standard error of the proportion\n",
    "        categories: category corresponding to each prop and se\n",
    "        \n",
    "    \"\"\"\n",
    "    \n",
    "    #if categories is not provided, then infer from array\n",
    "    if categories is None:\n",
    "        categories = np.sort(pd.unique(df[col_name]))\n",
    "    n = float(df.shape[0])\n",
    "    prob = np.array([float(np.sum(df[col_name]==x))/n for x in categories])\n",
    "    se = np.sqrt((prob*(1-prob))/n)\n",
    "    \n",
    "    return prob, se, categories\n",
    "\n",
    "def check_missing(df, col_name):\n",
    "    \"\"\"\n",
    "    This function will print the proportion of missing values for the specified column \n",
    "    of a given DataFrame.  The program assumes that missing values are specified as NULL\n",
    "    (NaN or None).\n",
    "    \n",
    "    Args:\n",
    "        df (DataFrame): the dataframe from which data will be plotted\n",
    "        col_name (str): the name of the DataFrame column to be plotted\n",
    "        \n",
    "    Returns:\n",
    "        n_total: the list of categories in the dataframe column.\n",
    "        n_missing: the number of occurences of that category\n",
    "    \n",
    "    \"\"\"\n",
    "        #get the total entries in dataframe\n",
    "    n_total = df.shape[0]\n",
    "        #get the total number of missing values \n",
    "    n_missing=np.sum(pd.isnull(df[col_name])==True)\n",
    "        #get percent missing\n",
    "    pct_missing=100*(float(n_missing)/float(n_total))\n",
    "        #print to screen\n",
    "    print(\"%d/%d (%2.2f%%) missing values for %s.\" % (n_missing, n_total, pct_missing,col_name))\n",
    "    \n",
    "    return n_total, n_missing\n",
    "\n",
    "def cate_descriptives(df,targ_col,cate_col):\n",
    "    \"\"\"\n",
    "    Given some dataframe, return the following discriptives for the values\n",
    "    in targ_col conditionalzied on cate_col:\n",
    "        mean, variance, stdev, sem, max, min, p25, p50, p75\n",
    "        \n",
    "    Args:\n",
    "        df (DataFrame): the dataframe containing variables of interest\n",
    "        targ_col (str): the name of the df column to be plotted (continuous)\n",
    "        cate_col (str): the name of the categorical column to conditionalize on\n",
    "        \n",
    "    Returns:\n",
    "        var_dict (dict): with following keys\n",
    "            targ_cate: cateogry list matching index of statistics\n",
    "            n: number of entries in each category\n",
    "            mean: category mean \n",
    "            var: category variance\n",
    "            std: category standard deviation\n",
    "            se: category standard error of the mean, std/sqrt(n)\n",
    "            max: category maximum\n",
    "            min: category minimum\n",
    "            p25: category 25th percentile\n",
    "            p50: category median (50th percentile)\n",
    "            p75: category 75th percentile\n",
    "            \n",
    "    #debug\n",
    "    df=df_train        \n",
    "    targ_col = 'age'\n",
    "    cate_col = 'country_destination'\n",
    "    #debug\n",
    "    \"\"\"\n",
    "    \n",
    "        #initialize\n",
    "    var_dict = {}\n",
    "    var_dict[cate_col] = list(pd.unique(df[cate_col].ravel()))\n",
    "    var_list = ['n','mean','var','std','se','max','min','p25','p50','p75']\n",
    "    for v in var_list:\n",
    "        var_dict[v] = np.empty([len(var_dict[cate_col]),1])*np.nan\n",
    "        #loop over categories        \n",
    "    for counter,c in enumerate(var_dict[cate_col]):\n",
    "        flag = df[cate_col]==c\n",
    "        var_dict['n'][counter] = len(df[targ_col][flag])\n",
    "        var_dict['mean'][counter] = np.nanmean(df[targ_col][flag])\n",
    "        var_dict['var'][counter] = np.nanvar(df[targ_col][flag])\n",
    "        var_dict['std'][counter] = np.nanstd(df[targ_col][flag])\n",
    "        var_dict['se'][counter] = var_dict['std'][counter]/np.sqrt(var_dict['n'][counter])\n",
    "        var_dict['max'][counter] = np.max(df[targ_col][flag])\n",
    "        var_dict['min'][counter] = np.min(df[targ_col][flag])\n",
    "        var_dict['p25'][counter] = np.nanpercentile(df[targ_col],25)\n",
    "        var_dict['p50'][counter] = np.nanpercentile(df[targ_col],50)\n",
    "        var_dict['p75'][counter] = np.nanpercentile(df[targ_col],75)\n",
    "        \n",
    "    return var_dict"
   ]
  },
  {
   "cell_type": "markdown",
   "metadata": {
    "deletable": true,
    "editable": true
   },
   "source": [
    "# Target variable: country_destination"
   ]
  },
  {
   "cell_type": "markdown",
   "metadata": {
    "deletable": true,
    "editable": true
   },
   "source": [
    "The target variable to be predicted is country_destination.  \n",
    "\n",
    "The dataset is heavily unbalanced.  Non-bookings (NDF; 58%) and US bookings (29%) vastly outnumber all other classes.\n",
    "\n",
    "This has implications for the modeling, for example, we need to choose an appropriate error metric since chance-level accuracy will be high (e.g. area under ROC curve).  Decision tree algorithms are often good at dealing with these types of data by forcing early feature splits."
   ]
  },
  {
   "cell_type": "code",
   "execution_count": 12,
   "metadata": {
    "collapsed": false
   },
   "outputs": [
    {
     "data": {
      "image/png": "[encoded data removed]",
      "text/plain": [
       "<matplotlib.figure.Figure at 0x111d42ad0>"
      ]
     },
     "metadata": {},
     "output_type": "display_data"
    }
   ],
   "source": [
    "country_destination, count = cate_hist(df_all,'country_destination')    "
   ]
  },
  {
   "cell_type": "code",
   "execution_count": 13,
   "metadata": {
    "collapsed": false,
    "deletable": true,
    "editable": true
   },
   "outputs": [
    {
     "data": {
      "image/png": "[encoded data removed]",
      "text/plain": [
       "<matplotlib.figure.Figure at 0x1138ca390>"
      ]
     },
     "metadata": {},
     "output_type": "display_data"
    }
   ],
   "source": [
    "#Higher quality version of this histogram\n",
    "save_on = True\n",
    "df = df_train\n",
    "col_name = 'country_destination'\n",
    "sns.set_style(\"ticks\")\n",
    "sns.set_context(\"notebook\", font_scale=1.0)\n",
    "fig = plt.figure(figsize=(4,3))\n",
    "    #get list of category labels and count\n",
    "categories = pd.unique(df[col_name].ravel())\n",
    "count = [np.sum(df[col_name]==x) for x in categories]\n",
    "    #generate the histogram\n",
    "ax = fig.add_axes([.3,.3,.6,.6])\n",
    "x = np.arange(len(categories))\n",
    "y = count\n",
    "width = 1.0\n",
    "ax.bar(x,y,width,color=(0,0,0),alpha=0.2,edgecolor='k')\n",
    "    #label the histogram\n",
    "ax.set_xlabel('Country destination')\n",
    "ax.set_ylabel('Frequency')\n",
    "ax.set_xticks(x)\n",
    "ax.set_xticklabels((categories))\n",
    "plt.tick_params(direction = 'out')\n",
    "plt.xticks(rotation = 90)\n",
    "sns.despine()\n",
    "if save_on:\n",
    "    plt.savefig('country_destination_hist.png',dpi=600,edgecolor='k')"
   ]
  },
  {
   "cell_type": "markdown",
   "metadata": {
    "deletable": true,
    "editable": true
   },
   "source": [
    "Print the proportions and standard error for each class."
   ]
  },
  {
   "cell_type": "code",
   "execution_count": 14,
   "metadata": {
    "collapsed": false,
    "deletable": true,
    "editable": true
   },
   "outputs": [
    {
     "name": "stdout",
     "output_type": "stream",
     "text": [
      "category\tprop\t\tse\n",
      "AU\t\t0.0025\t\t0.0001\n",
      "CA\t\t0.0067\t\t0.0002\n",
      "DE\t\t0.005\t\t0.0002\n",
      "ES\t\t0.0105\t\t0.0002\n",
      "FR\t\t0.0235\t\t0.0003\n",
      "GB\t\t0.0109\t\t0.0002\n",
      "IT\t\t0.0133\t\t0.0002\n",
      "NDF\t\t0.5835\t\t0.0011\n",
      "NL\t\t0.0036\t\t0.0001\n",
      "PT\t\t0.001\t\t0.0001\n",
      "US\t\t0.2922\t\t0.001\n",
      "other\t\t0.0473\t\t0.0005\n"
     ]
    }
   ],
   "source": [
    "p, se, categories = cate_prop_se(df, col_name)\n",
    "print \"category\\tprop\\t\\tse\"\n",
    "for i in np.arange(len(categories)):\n",
    "    print categories[i] + \"\\t\\t\" + str(np.round(p[i],4)) + \"\\t\\t\" + str(np.round(se[i],4))"
   ]
  },
  {
   "cell_type": "markdown",
   "metadata": {
    "deletable": true,
    "editable": true
   },
   "source": [
    "# Features"
   ]
  },
  {
   "cell_type": "markdown",
   "metadata": {
    "deletable": true,
    "editable": true
   },
   "source": [
    "## 1. affiliate_channel\n",
    "The type of paid marketing through which the user was refereced.  "
   ]
  },
  {
   "cell_type": "code",
   "execution_count": 15,
   "metadata": {
    "collapsed": false,
    "deletable": true,
    "editable": true
   },
   "outputs": [
    {
     "data": {
      "image/png": "[encoded data removed]",
      "text/plain": [
       "<matplotlib.figure.Figure at 0x112f4fb90>"
      ]
     },
     "metadata": {},
     "output_type": "display_data"
    }
   ],
   "source": [
    "affiliate_channel, count = cate_hist(df_all,'affiliate_channel')    "
   ]
  },
  {
   "cell_type": "code",
   "execution_count": 16,
   "metadata": {
    "collapsed": false,
    "deletable": true,
    "editable": true
   },
   "outputs": [
    {
     "name": "stdout",
     "output_type": "stream",
     "text": [
      "0/275547 (0.00%) missing values for affiliate_channel.\n"
     ]
    },
    {
     "data": {
      "text/plain": [
       "(275547, 0)"
      ]
     },
     "execution_count": 16,
     "metadata": {},
     "output_type": "execute_result"
    }
   ],
   "source": [
    "check_missing(df_all, 'affiliate_channel')"
   ]
  },
  {
   "cell_type": "markdown",
   "metadata": {
    "deletable": true,
    "editable": true
   },
   "source": [
    "## 2. Affiliate provider"
   ]
  },
  {
   "cell_type": "markdown",
   "metadata": {
    "deletable": true,
    "editable": true
   },
   "source": [
    "The affiliate channel refers to the corporate partner through which the user was referenced."
   ]
  },
  {
   "cell_type": "code",
   "execution_count": 17,
   "metadata": {
    "collapsed": false,
    "deletable": true,
    "editable": true
   },
   "outputs": [
    {
     "data": {
      "image/png": "[encoded data removed]",
      "text/plain": [
       "<matplotlib.figure.Figure at 0x1138ca190>"
      ]
     },
     "metadata": {},
     "output_type": "display_data"
    }
   ],
   "source": [
    "affiliate_provider, count = cate_hist(df_all,'affiliate_provider')    "
   ]
  },
  {
   "cell_type": "code",
   "execution_count": 18,
   "metadata": {
    "collapsed": false,
    "deletable": true,
    "editable": true
   },
   "outputs": [
    {
     "name": "stdout",
     "output_type": "stream",
     "text": [
      "0/275547 (0.00%) missing values for affiliate_provider.\n"
     ]
    },
    {
     "data": {
      "text/plain": [
       "(275547, 0)"
      ]
     },
     "execution_count": 18,
     "metadata": {},
     "output_type": "execute_result"
    }
   ],
   "source": [
    "check_missing(df_all, 'affiliate_provider')"
   ]
  },
  {
   "cell_type": "markdown",
   "metadata": {
    "deletable": true,
    "editable": true
   },
   "source": [
    "## 3. Age\n",
    "The age of the user in years.  A few aspects of note.  \n",
    "\n",
    "(1) First, there several users that fall outside the range of the airbnb terms of service and are unlikely to be booking travel (e.g., \n",
    "users less than 14 or greater than 100 years of age.  We can treat these as if they are missing values rather than taking the value serious.  "
   ]
  },
  {
   "cell_type": "code",
   "execution_count": 19,
   "metadata": {
    "collapsed": false,
    "deletable": true,
    "editable": true
   },
   "outputs": [
    {
     "data": {
      "text/plain": [
       "<matplotlib.text.Text at 0x112a4fa10>"
      ]
     },
     "execution_count": 19,
     "metadata": {},
     "output_type": "execute_result"
    },
    {
     "data": {
      "image/png": "[encoded data removed]",
      "text/plain": [
       "<matplotlib.figure.Figure at 0x102062210>"
      ]
     },
     "metadata": {},
     "output_type": "display_data"
    }
   ],
   "source": [
    "bins_=np.arange(-1,150+1)\n",
    "fig, ax = plt.subplots()\n",
    "plt.hist(df_all['age'][~pd.isnull(df_all['age'])],bins=bins_,range=None)\n",
    "plt.xlabel('Age (yrs)')\n",
    "plt.ylabel('Frequency') "
   ]
  },
  {
   "cell_type": "markdown",
   "metadata": {
    "deletable": true,
    "editable": true
   },
   "source": [
    "(2) Second, in addition to these users, there are many missing values; too many to simply discard.  If using logistic regression models, we can encode these as zeros and add a dummy variable.  If using decision trees, can encode these with some value well outside the normal range for easy categorization at a single node (e.g., -1 or 999999).  "
   ]
  },
  {
   "cell_type": "code",
   "execution_count": 20,
   "metadata": {
    "collapsed": false,
    "deletable": true,
    "editable": true
   },
   "outputs": [
    {
     "name": "stdout",
     "output_type": "stream",
     "text": [
      "116866/275547 (42.41%) missing values for age.\n"
     ]
    },
    {
     "data": {
      "text/plain": [
       "(275547, 116866)"
      ]
     },
     "execution_count": 20,
     "metadata": {},
     "output_type": "execute_result"
    }
   ],
   "source": [
    "check_missing(df_all,'age')"
   ]
  },
  {
   "cell_type": "markdown",
   "metadata": {
    "deletable": true,
    "editable": true
   },
   "source": [
    "(3) We see substantial variation in country destination by age, suggesting that this is an informative variable for modeling."
   ]
  },
  {
   "cell_type": "code",
   "execution_count": 21,
   "metadata": {
    "collapsed": false,
    "deletable": true,
    "editable": true
   },
   "outputs": [
    {
     "name": "stderr",
     "output_type": "stream",
     "text": [
      "/Users/purcelba/anaconda/envs/Python2.7/lib/python2.7/site-packages/ipykernel/__main__.py:2: RuntimeWarning: invalid value encountered in less\n",
      "  from ipykernel import kernelapp as app\n",
      "/Users/purcelba/anaconda/envs/Python2.7/lib/python2.7/site-packages/ipykernel/__main__.py:2: RuntimeWarning: invalid value encountered in greater\n",
      "  from ipykernel import kernelapp as app\n"
     ]
    },
    {
     "data": {
      "text/plain": [
       "(30, 40)"
      ]
     },
     "execution_count": 21,
     "metadata": {},
     "output_type": "execute_result"
    },
    {
     "data": {
      "image/png": "[encoded data removed]",
      "text/plain": [
       "<matplotlib.figure.Figure at 0x11233d4d0>"
      ]
     },
     "metadata": {},
     "output_type": "display_data"
    }
   ],
   "source": [
    "age = df_train.age.values\n",
    "df_train['age'] = np.where(np.logical_or(age<14, age>100), np.nan, age)\n",
    "#now let's get some descriptives about age for each category.\n",
    "#mean, variance, std, se, max, min, range, p25, p50, p75\n",
    "age_descriptives = cate_descriptives(df_train,'age','country_destination')\n",
    "#plot\n",
    "x = np.arange(len(age_descriptives['country_destination']))\n",
    "y = age_descriptives['mean']\n",
    "e = age_descriptives['se']\n",
    "fig, ax = plt.subplots()\n",
    "width = 1.0\n",
    "ax.bar(x,y,width,color='r',yerr=e,error_kw=dict(ecolor='k'))\n",
    "ax.set_xticks(x+width/2)\n",
    "ax.set_xlabel('country_destination')\n",
    "ax.set_ylabel('age')\n",
    "ax.set_xticklabels(age_descriptives['country_destination'])\n",
    "plt.tick_params(direction = 'out')\n",
    "plt.xticks(rotation = 45)\n",
    "plt.ylim([30,40])   \n"
   ]
  },
  {
   "cell_type": "markdown",
   "metadata": {
    "deletable": true,
    "editable": true
   },
   "source": [
    "## 4. date_account_created\n",
    "\n",
    "When was the account created?  Likely to contain information about travel (e.g., more travel in summer months, warmer destinations in colder months)."
   ]
  },
  {
   "cell_type": "code",
   "execution_count": 22,
   "metadata": {
    "collapsed": false,
    "deletable": true,
    "editable": true
   },
   "outputs": [
    {
     "name": "stdout",
     "output_type": "stream",
     "text": [
      "0/275547 (0.00%) missing values for date_account_created.\n"
     ]
    },
    {
     "data": {
      "text/plain": [
       "(275547, 0)"
      ]
     },
     "execution_count": 22,
     "metadata": {},
     "output_type": "execute_result"
    }
   ],
   "source": [
    "check_missing(df_all,'date_account_created')"
   ]
  },
  {
   "cell_type": "markdown",
   "metadata": {
    "deletable": true,
    "editable": true
   },
   "source": [
    "We must format the date string into columns of year/month/day integers."
   ]
  },
  {
   "cell_type": "code",
   "execution_count": 23,
   "metadata": {
    "collapsed": false,
    "deletable": true,
    "editable": true
   },
   "outputs": [],
   "source": [
    "dac = df_all['date_account_created'].astype(str)    #convert to string\n",
    "func = lambda x: list(map(int,x.split('-')))        #create a function handle that will \n",
    "                                                    #(1)split the string at '-'\n",
    "                                                    #(2)convert to list of integers\n",
    "dac = np.vstack(dac.apply(func))                    #Run func and concatenate rows to np array \n",
    "    #crate new columns in the data frame\n",
    "df_all['dac_year']=dac[:,0]  #col for year\n",
    "df_all['dac_month']=dac[:,1] #col for month\n",
    "df_all['dac_day']=dac[:,2]   #col for day"
   ]
  },
  {
   "cell_type": "markdown",
   "metadata": {
    "deletable": true,
    "editable": true
   },
   "source": [
    "There might also be useful information in the day of the week.  We can use the datetime.weekday function to convert the dates to days of the week (0=Monday to 6=Sunday) and weeks of the year (1-52).\n"
   ]
  },
  {
   "cell_type": "code",
   "execution_count": 24,
   "metadata": {
    "collapsed": false,
    "deletable": true,
    "editable": true
   },
   "outputs": [],
   "source": [
    "    #use the datetime.weekday function to convert the dates to days of week (0=mon to 6=sun)\n",
    "dac_wkday = [datetime.datetime(df_all['dac_year'][i],df_all['dac_month'][i],df_all['dac_day'][i]).weekday() for i in range(df_all.shape[0])]\n",
    "df_all['dac_wkday']=dac_wkday\n",
    "    #use datetime.date function to get week of year\n",
    "dac_week = [datetime.date(df_all['dac_year'][i],df_all['dac_month'][i],df_all['dac_day'][i]).strftime(\"%U\") for i in range(df_all.shape[0])]\n",
    "df_all['dac_week'] = list(map(int,dac_week))"
   ]
  },
  {
   "cell_type": "markdown",
   "metadata": {
    "deletable": true,
    "editable": true
   },
   "source": [
    "The line histogram of date_account_created indicates that accounts are growing rapidly over the years and also suggests peaks during the summer months."
   ]
  },
  {
   "cell_type": "code",
   "execution_count": 25,
   "metadata": {
    "collapsed": false,
    "deletable": true,
    "editable": true
   },
   "outputs": [
    {
     "name": "stderr",
     "output_type": "stream",
     "text": [
      "/Users/purcelba/anaconda/envs/Python2.7/lib/python2.7/site-packages/ipykernel/__main__.py:27: VisibleDeprecationWarning: boolean index did not match indexed array along dimension 0; dimension is 60 but corresponding boolean dimension is 57\n"
     ]
    },
    {
     "data": {
      "text/plain": [
       "<matplotlib.text.Text at 0x112319cd0>"
      ]
     },
     "execution_count": 25,
     "metadata": {},
     "output_type": "execute_result"
    },
    {
     "data": {
      "image/png": "[encoded data removed]",
      "text/plain": [
       "<matplotlib.figure.Figure at 0x1138bc690>"
      ]
     },
     "metadata": {},
     "output_type": "display_data"
    }
   ],
   "source": [
    "#plot histogram of date_account_created by month/yr\n",
    "    #list of months and years\n",
    "mo_list = np.arange(12)+1 #1-12\n",
    "yr_list = np.arange(np.min(df_all['dac_year']),np.max(df_all['dac_year'])+1,1)#2010-2014\n",
    "    #get frequency of each mo/yr combination\n",
    "col_list = ['dac_year','dac_month']\n",
    "mo_yr = df_all[col_list]\n",
    "mo_yr_count = np.array(np.empty([len(mo_list)*len(yr_list),])*np.nan)\n",
    "mo_idx = []\n",
    "yr_idx = []\n",
    "yr_grp_obj = mo_yr.groupby('dac_year') #created grouped df object by year\n",
    "counter = 0\n",
    "for yr_g, yr_grp in yr_grp_obj:\n",
    "    mo_grp_obj = yr_grp.groupby('dac_month') #create grouped df object by month\n",
    "    for mo_g, mo_grp in mo_grp_obj:\n",
    "        mo_yr_count[counter]=int(mo_grp.shape[0])\n",
    "        mo_idx.append(mo_g)\n",
    "        yr_idx.append(yr_g)\n",
    "        counter = counter + 1\n",
    "    #assign to bins. accounts for months/yrs that may be skipped\n",
    "mo_bins = np.tile(mo_list,len(yr_list))\n",
    "yr_bins = np.tile(yr_list,(mo_list.shape[0],1)).T.reshape(len(mo_list)*len(yr_list),)\n",
    "bin_count = np.empty([len(mo_bins),])*np.nan\n",
    "bins = np.arange(len(mo_bins))\n",
    "for i in np.arange(len(bin_count)):\n",
    "    if np.sum(np.logical_and(mo_idx==mo_bins[i],yr_idx==yr_bins[i])):\n",
    "        bin_count[i] = mo_yr_count[np.logical_and(mo_idx==mo_bins[i],yr_idx==yr_bins[i])]\n",
    "    #plot\n",
    "fig, ax = plt.subplots()\n",
    "plt.plot(bins,bin_count, linewidth = 3.0, color='r')\n",
    "plt.xticks(np.arange(1,12*len(yr_list)+1,12),yr_list,rotation=45)\n",
    "plt.tick_params(direction='out')\n",
    "plt.xlabel('Year')\n",
    "plt.ylabel('Frequency')\n",
    "plt.title('Date account created')"
   ]
  },
  {
   "cell_type": "markdown",
   "metadata": {
    "deletable": true,
    "editable": true
   },
   "source": [
    "## 5. date_first_booking\n",
    "This variable is not available for the training set and so it is not useful for prediction."
   ]
  },
  {
   "cell_type": "code",
   "execution_count": 26,
   "metadata": {
    "collapsed": true,
    "deletable": true,
    "editable": true
   },
   "outputs": [],
   "source": [
    "df_all = df_all.drop(['date_first_booking'],axis=1)"
   ]
  },
  {
   "cell_type": "markdown",
   "metadata": {
    "deletable": true,
    "editable": true
   },
   "source": [
    "## 6. first_affiliate_tracked\n",
    "\n",
    "First marketing that the user signed up for."
   ]
  },
  {
   "cell_type": "code",
   "execution_count": 27,
   "metadata": {
    "collapsed": false,
    "deletable": true,
    "editable": true
   },
   "outputs": [
    {
     "name": "stdout",
     "output_type": "stream",
     "text": [
      "6085/275547 (2.21%) missing values for first_affiliate_tracked.\n"
     ]
    },
    {
     "data": {
      "text/plain": [
       "(275547, 6085)"
      ]
     },
     "execution_count": 27,
     "metadata": {},
     "output_type": "execute_result"
    }
   ],
   "source": [
    "check_missing(df_all,'first_affiliate_tracked')"
   ]
  },
  {
   "cell_type": "code",
   "execution_count": 28,
   "metadata": {
    "collapsed": false,
    "deletable": true,
    "editable": true
   },
   "outputs": [
    {
     "data": {
      "image/png": "[encoded data removed]",
      "text/plain": [
       "<matplotlib.figure.Figure at 0x112a48490>"
      ]
     },
     "metadata": {},
     "output_type": "display_data"
    }
   ],
   "source": [
    "first_affiliate_tracked, count = cate_hist(df_all,'first_affiliate_tracked')"
   ]
  },
  {
   "cell_type": "markdown",
   "metadata": {
    "deletable": true,
    "editable": true
   },
   "source": [
    "## 7. first_browser\n",
    "Web browser used to set up the account."
   ]
  },
  {
   "cell_type": "code",
   "execution_count": 29,
   "metadata": {
    "collapsed": false,
    "deletable": true,
    "editable": true
   },
   "outputs": [
    {
     "name": "stdout",
     "output_type": "stream",
     "text": [
      "0/275547 (0.00%) missing values for first_browser.\n"
     ]
    },
    {
     "data": {
      "text/plain": [
       "(275547, 0)"
      ]
     },
     "execution_count": 29,
     "metadata": {},
     "output_type": "execute_result"
    }
   ],
   "source": [
    "check_missing(df_all,'first_browser')"
   ]
  },
  {
   "cell_type": "code",
   "execution_count": 30,
   "metadata": {
    "collapsed": false,
    "deletable": true,
    "editable": true
   },
   "outputs": [
    {
     "data": {
      "image/png": "[encoded data removed]",
      "text/plain": [
       "<matplotlib.figure.Figure at 0x112f79710>"
      ]
     },
     "metadata": {},
     "output_type": "display_data"
    }
   ],
   "source": [
    "first_browser, count = cate_hist(df_all,'first_browser')"
   ]
  },
  {
   "cell_type": "markdown",
   "metadata": {
    "deletable": true,
    "editable": true
   },
   "source": [
    "## 8. first_device_type\n",
    "Device used to set up the account."
   ]
  },
  {
   "cell_type": "code",
   "execution_count": 31,
   "metadata": {
    "collapsed": false,
    "deletable": true,
    "editable": true
   },
   "outputs": [
    {
     "name": "stdout",
     "output_type": "stream",
     "text": [
      "0/275547 (0.00%) missing values for first_device_type.\n"
     ]
    },
    {
     "data": {
      "text/plain": [
       "(275547, 0)"
      ]
     },
     "execution_count": 31,
     "metadata": {},
     "output_type": "execute_result"
    }
   ],
   "source": [
    "check_missing(df_all,'first_device_type')"
   ]
  },
  {
   "cell_type": "code",
   "execution_count": 32,
   "metadata": {
    "collapsed": false,
    "deletable": true,
    "editable": true
   },
   "outputs": [
    {
     "data": {
      "image/png": "[encoded data removed]",
      "text/plain": [
       "<matplotlib.figure.Figure at 0x118642d10>"
      ]
     },
     "metadata": {},
     "output_type": "display_data"
    }
   ],
   "source": [
    "first_device_type, count = cate_hist(df_all,'first_device_type')"
   ]
  },
  {
   "cell_type": "markdown",
   "metadata": {
    "deletable": true,
    "editable": true
   },
   "source": [
    "## 9. Gender\n",
    "User gender. "
   ]
  },
  {
   "cell_type": "markdown",
   "metadata": {
    "deletable": true,
    "editable": true
   },
   "source": [
    "Although there are no null values, some entries are listed as \"-unknown-\" and must be recoded to missing values."
   ]
  },
  {
   "cell_type": "code",
   "execution_count": 33,
   "metadata": {
    "collapsed": false,
    "deletable": true,
    "editable": true
   },
   "outputs": [
    {
     "name": "stdout",
     "output_type": "stream",
     "text": [
      "0/275547 (0.00%) missing values for gender.\n"
     ]
    },
    {
     "data": {
      "text/plain": [
       "(275547, 0)"
      ]
     },
     "execution_count": 33,
     "metadata": {},
     "output_type": "execute_result"
    }
   ],
   "source": [
    "check_missing(df_all,'gender')"
   ]
  },
  {
   "cell_type": "code",
   "execution_count": 34,
   "metadata": {
    "collapsed": false,
    "deletable": true,
    "editable": true
   },
   "outputs": [
    {
     "data": {
      "image/png": "[encoded data removed]",
      "text/plain": [
       "<matplotlib.figure.Figure at 0x119117850>"
      ]
     },
     "metadata": {},
     "output_type": "display_data"
    }
   ],
   "source": [
    "gender, count = cate_hist(df_all,'gender')"
   ]
  },
  {
   "cell_type": "code",
   "execution_count": 35,
   "metadata": {
    "collapsed": true,
    "deletable": true,
    "editable": true
   },
   "outputs": [],
   "source": [
    "df_all['gender'] = df_all['gender'].replace('-unknown-',np.nan)"
   ]
  },
  {
   "cell_type": "markdown",
   "metadata": {
    "deletable": true,
    "editable": true
   },
   "source": [
    "## 10. id\n",
    "Unique identifier for each user."
   ]
  },
  {
   "cell_type": "markdown",
   "metadata": {
    "deletable": true,
    "editable": true
   },
   "source": [
    "Not useful for prediction.  Can be dropped."
   ]
  },
  {
   "cell_type": "code",
   "execution_count": 36,
   "metadata": {
    "collapsed": false,
    "deletable": true,
    "editable": true
   },
   "outputs": [],
   "source": [
    "df_all = df_all.drop(['id'], axis=1)"
   ]
  },
  {
   "cell_type": "markdown",
   "metadata": {
    "deletable": true,
    "editable": true
   },
   "source": [
    "## 11. language\n",
    "User language.  Some are listed as \"-unknown-\" and must be recoded to missing values."
   ]
  },
  {
   "cell_type": "code",
   "execution_count": 37,
   "metadata": {
    "collapsed": false,
    "deletable": true,
    "editable": true
   },
   "outputs": [
    {
     "name": "stdout",
     "output_type": "stream",
     "text": [
      "0/275547 (0.00%) missing values for language.\n"
     ]
    },
    {
     "data": {
      "text/plain": [
       "(275547, 0)"
      ]
     },
     "execution_count": 37,
     "metadata": {},
     "output_type": "execute_result"
    }
   ],
   "source": [
    "check_missing(df_all,'language')"
   ]
  },
  {
   "cell_type": "code",
   "execution_count": 38,
   "metadata": {
    "collapsed": false,
    "deletable": true,
    "editable": true
   },
   "outputs": [
    {
     "data": {
      "image/png": "[encoded data removed]",
      "text/plain": [
       "<matplotlib.figure.Figure at 0x114543350>"
      ]
     },
     "metadata": {},
     "output_type": "display_data"
    }
   ],
   "source": [
    "language, count = cate_hist(df_all,'language')"
   ]
  },
  {
   "cell_type": "code",
   "execution_count": 39,
   "metadata": {
    "collapsed": true,
    "deletable": true,
    "editable": true
   },
   "outputs": [],
   "source": [
    "df_all['language'] = df_all['language'].replace('-unknown-',np.nan) "
   ]
  },
  {
   "cell_type": "markdown",
   "metadata": {
    "deletable": true,
    "editable": true
   },
   "source": [
    "## 12. signup_app\n",
    "With which application did the user sign up."
   ]
  },
  {
   "cell_type": "code",
   "execution_count": 40,
   "metadata": {
    "collapsed": false,
    "deletable": true,
    "editable": true
   },
   "outputs": [
    {
     "name": "stdout",
     "output_type": "stream",
     "text": [
      "0/275547 (0.00%) missing values for signup_app.\n"
     ]
    },
    {
     "data": {
      "text/plain": [
       "(275547, 0)"
      ]
     },
     "execution_count": 40,
     "metadata": {},
     "output_type": "execute_result"
    }
   ],
   "source": [
    "check_missing(df_all,'signup_app')"
   ]
  },
  {
   "cell_type": "code",
   "execution_count": 41,
   "metadata": {
    "collapsed": false,
    "deletable": true,
    "editable": true
   },
   "outputs": [
    {
     "data": {
      "image/png": "[encoded data removed]",
      "text/plain": [
       "<matplotlib.figure.Figure at 0x119727050>"
      ]
     },
     "metadata": {},
     "output_type": "display_data"
    }
   ],
   "source": [
    "signup, count = cate_hist(df_all,'signup_app')"
   ]
  },
  {
   "cell_type": "markdown",
   "metadata": {
    "deletable": true,
    "editable": true
   },
   "source": [
    "## 14. signup_method\n",
    "Through which method did the user sign up (i.e., facebook, basic, google, or weibo)."
   ]
  },
  {
   "cell_type": "code",
   "execution_count": 42,
   "metadata": {
    "collapsed": false,
    "deletable": true,
    "editable": true
   },
   "outputs": [
    {
     "name": "stdout",
     "output_type": "stream",
     "text": [
      "0/275547 (0.00%) missing values for signup_method.\n"
     ]
    },
    {
     "data": {
      "text/plain": [
       "(275547, 0)"
      ]
     },
     "execution_count": 42,
     "metadata": {},
     "output_type": "execute_result"
    }
   ],
   "source": [
    "check_missing(df_all,'signup_method')"
   ]
  },
  {
   "cell_type": "code",
   "execution_count": 43,
   "metadata": {
    "collapsed": false,
    "deletable": true,
    "editable": true
   },
   "outputs": [
    {
     "data": {
      "image/png": "[encoded data removed]",
      "text/plain": [
       "<matplotlib.figure.Figure at 0x11cb103d0>"
      ]
     },
     "metadata": {},
     "output_type": "display_data"
    }
   ],
   "source": [
    "signup, count = cate_hist(df_all,'signup_method')"
   ]
  },
  {
   "cell_type": "markdown",
   "metadata": {
    "deletable": true,
    "editable": true
   },
   "source": [
    "## 15. timestamp_first_active\n",
    "When was the user first active on the account.  May differ from date_account_created because the user may create the account and use it at different times."
   ]
  },
  {
   "cell_type": "code",
   "execution_count": 44,
   "metadata": {
    "collapsed": false,
    "deletable": true,
    "editable": true
   },
   "outputs": [
    {
     "name": "stdout",
     "output_type": "stream",
     "text": [
      "0/275547 (0.00%) missing values for date_account_created.\n"
     ]
    },
    {
     "data": {
      "text/plain": [
       "(275547, 0)"
      ]
     },
     "execution_count": 44,
     "metadata": {},
     "output_type": "execute_result"
    }
   ],
   "source": [
    "check_missing(df_all,'date_account_created')"
   ]
  },
  {
   "cell_type": "markdown",
   "metadata": {
    "deletable": true,
    "editable": true
   },
   "source": [
    "Default format is YYYYMMDDHHMMSS (year, month, day, hour, minute, second).  Must be converted to df columns."
   ]
  },
  {
   "cell_type": "code",
   "execution_count": 45,
   "metadata": {
    "collapsed": true,
    "deletable": true,
    "editable": true
   },
   "outputs": [],
   "source": [
    "tfa=df_all.timestamp_first_active.astype(str) \n",
    "tfa=np.vstack(tfa.apply(lambda x: list(map(int, [x[0:4],x[4:6],x[6:8],x[8:10],x[10:12],x[12:14]]))).values)\n",
    "    #create new columns\n",
    "df_all['tfa_year']=tfa[:,0]\n",
    "df_all['tfa_month']=tfa[:,1]\n",
    "df_all['tfa_day']=tfa[:,2]\n",
    "    #use datetime.weekday to creates days of week\n",
    "tfa_wkday = [datetime.datetime(df_all['tfa_year'][i],df_all['tfa_month'][i],df_all['tfa_day'][i]).weekday() for i in range(df_all.shape[0])]\n",
    "df_all['tfa_wkday']=tfa_wkday"
   ]
  },
  {
   "cell_type": "markdown",
   "metadata": {
    "deletable": true,
    "editable": true
   },
   "source": [
    "## Signup flow\n",
    "The page a user came to signup up from."
   ]
  },
  {
   "cell_type": "code",
   "execution_count": 46,
   "metadata": {
    "collapsed": false,
    "deletable": true,
    "editable": true
   },
   "outputs": [
    {
     "name": "stdout",
     "output_type": "stream",
     "text": [
      "0/275547 (0.00%) missing values for signup_flow.\n"
     ]
    },
    {
     "data": {
      "text/plain": [
       "(275547, 0)"
      ]
     },
     "execution_count": 46,
     "metadata": {},
     "output_type": "execute_result"
    }
   ],
   "source": [
    "check_missing(df_all,'signup_flow')"
   ]
  },
  {
   "cell_type": "code",
   "execution_count": 47,
   "metadata": {
    "collapsed": false,
    "deletable": true,
    "editable": true
   },
   "outputs": [
    {
     "data": {
      "image/png": "[encoded data removed]",
      "text/plain": [
       "<matplotlib.figure.Figure at 0x11d157390>"
      ]
     },
     "metadata": {},
     "output_type": "display_data"
    }
   ],
   "source": [
    "signup, count = cate_hist(df_all,'signup_flow')"
   ]
  },
  {
   "cell_type": "code",
   "execution_count": null,
   "metadata": {
    "collapsed": true,
    "deletable": true,
    "editable": true
   },
   "outputs": [],
   "source": []
  }
 ],
 "metadata": {
  "kernelspec": {
   "display_name": "Python 2",
   "language": "python",
   "name": "python2"
  },
  "language_info": {
   "codemirror_mode": {
    "name": "ipython",
    "version": 2
   },
   "file_extension": ".py",
   "mimetype": "text/x-python",
   "name": "python",
   "nbconvert_exporter": "python",
   "pygments_lexer": "ipython2",
   "version": "2.7.12"
  }
 },
 "nbformat": 4,
 "nbformat_minor": 0
}
